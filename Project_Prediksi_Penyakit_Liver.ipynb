{
 "cells": [
  {
   "cell_type": "markdown",
   "id": "017740af",
   "metadata": {},
   "source": [
    "Prediksi Penyakit Liver Dengan Jaringan Syaraf Tiruan"
   ]
  },
  {
   "cell_type": "code",
   "execution_count": 1,
   "id": "bde6e021",
   "metadata": {},
   "outputs": [
    {
     "name": "stdout",
     "output_type": "stream",
     "text": [
      "<class 'pandas.core.frame.DataFrame'>\n",
      "RangeIndex: 583 entries, 0 to 582\n",
      "Data columns (total 11 columns):\n",
      " #   Column                      Non-Null Count  Dtype  \n",
      "---  ------                      --------------  -----  \n",
      " 0   Age                         583 non-null    int64  \n",
      " 1   Gender                      583 non-null    object \n",
      " 2   Total_Bilirubin             583 non-null    float64\n",
      " 3   Direct_Bilirubin            583 non-null    float64\n",
      " 4   Alkaline_Phosphotase        583 non-null    int64  \n",
      " 5   Alamine_Aminotransferase    583 non-null    int64  \n",
      " 6   Aspartate_Aminotransferase  583 non-null    int64  \n",
      " 7   Total_Protiens              583 non-null    float64\n",
      " 8   Albumin                     583 non-null    float64\n",
      " 9   Albumin_and_Globulin_Ratio  579 non-null    float64\n",
      " 10  Dataset                     583 non-null    int64  \n",
      "dtypes: float64(5), int64(5), object(1)\n",
      "memory usage: 50.2+ KB\n",
      "None\n"
     ]
    }
   ],
   "source": [
    "#Import Library\n",
    "import pandas as pd\n",
    "import numpy as np\n",
    "\n",
    "#Membaca Data\n",
    "df = pd.read_csv(\"C:/Users/USER/Documents/Python/Jaringan Syaraf Tiruan Project/indian_liver_patient.csv\")\n",
    "\n",
    "print(df.info())"
   ]
  },
  {
   "cell_type": "code",
   "execution_count": 2,
   "id": "fba6a47e",
   "metadata": {},
   "outputs": [
    {
     "name": "stdout",
     "output_type": "stream",
     "text": [
      "Age                           0\n",
      "Gender                        0\n",
      "Total_Bilirubin               0\n",
      "Direct_Bilirubin              0\n",
      "Alkaline_Phosphotase          0\n",
      "Alamine_Aminotransferase      0\n",
      "Aspartate_Aminotransferase    0\n",
      "Total_Protiens                0\n",
      "Albumin                       0\n",
      "Albumin_and_Globulin_Ratio    4\n",
      "Dataset                       0\n",
      "dtype: int64\n",
      "count    579.000000\n",
      "mean       0.947064\n",
      "std        0.319592\n",
      "min        0.300000\n",
      "25%        0.700000\n",
      "50%        0.930000\n",
      "75%        1.100000\n",
      "max        2.800000\n",
      "Name: Albumin_and_Globulin_Ratio, dtype: float64\n"
     ]
    }
   ],
   "source": [
    "#Check for missing values\n",
    "print(df.isnull().sum())\n",
    "\n",
    "print(df['Albumin_and_Globulin_Ratio'].describe())"
   ]
  },
  {
   "cell_type": "code",
   "execution_count": 3,
   "id": "61140fc4",
   "metadata": {},
   "outputs": [
    {
     "name": "stdout",
     "output_type": "stream",
     "text": [
      "<class 'pandas.core.frame.DataFrame'>\n",
      "RangeIndex: 583 entries, 0 to 582\n",
      "Data columns (total 11 columns):\n",
      " #   Column                      Non-Null Count  Dtype  \n",
      "---  ------                      --------------  -----  \n",
      " 0   Age                         583 non-null    int64  \n",
      " 1   Gender                      583 non-null    object \n",
      " 2   Total_Bilirubin             583 non-null    float64\n",
      " 3   Direct_Bilirubin            583 non-null    float64\n",
      " 4   Alkaline_Phosphotase        583 non-null    int64  \n",
      " 5   Alamine_Aminotransferase    583 non-null    int64  \n",
      " 6   Aspartate_Aminotransferase  583 non-null    int64  \n",
      " 7   Total_Protiens              583 non-null    float64\n",
      " 8   Albumin                     583 non-null    float64\n",
      " 9   Albumin_and_Globulin_Ratio  583 non-null    float64\n",
      " 10  Dataset                     583 non-null    int64  \n",
      "dtypes: float64(5), int64(5), object(1)\n",
      "memory usage: 50.2+ KB\n",
      "None\n"
     ]
    },
    {
     "name": "stderr",
     "output_type": "stream",
     "text": [
      "C:\\Users\\USER\\AppData\\Local\\Temp\\ipykernel_16180\\2480636606.py:2: FutureWarning: A value is trying to be set on a copy of a DataFrame or Series through chained assignment using an inplace method.\n",
      "The behavior will change in pandas 3.0. This inplace method will never work because the intermediate object on which we are setting values always behaves as a copy.\n",
      "\n",
      "For example, when doing 'df[col].method(value, inplace=True)', try using 'df.method({col: value}, inplace=True)' or df[col] = df[col].method(value) instead, to perform the operation inplace on the original object.\n",
      "\n",
      "\n",
      "  df['Albumin_and_Globulin_Ratio'].fillna(df['Albumin_and_Globulin_Ratio'].median(), inplace=True)\n"
     ]
    }
   ],
   "source": [
    "#Mengisi missing values dengan median\n",
    "df['Albumin_and_Globulin_Ratio'].fillna(df['Albumin_and_Globulin_Ratio'].median(), inplace=True)\n",
    "print(df.info())"
   ]
  },
  {
   "cell_type": "code",
   "execution_count": 4,
   "id": "12a4b1e0",
   "metadata": {},
   "outputs": [],
   "source": [
    "# Encode categorical 'Gender' column\n",
    "df_encoded = df.copy()\n",
    "df_encoded['Gender'] = df_encoded['Gender'].map({'Male': 1, 'Female': 0})\n",
    "\n",
    "# Separate features and target\n",
    "X = df_encoded.drop('Dataset', axis=1).values\n",
    "y = df_encoded['Dataset'].values\n",
    "\n",
    "# Normalize features\n",
    "X_norm = (X - X.mean(axis=0)) / X.std(axis=0)\n",
    "\n",
    "# Split data into features and target\n",
    "def custom_train_test_split(X, y, test_size=0.2):\n",
    "    indices = np.arange(X.shape[0])\n",
    "    np.random.shuffle(indices)\n",
    "    split = int((1 - test_size) * len(indices))\n",
    "    return X[indices[:split]], X[indices[split:]], y[indices[:split]], y[indices[split:]]\n",
    "\n",
    "X_train, X_test, y_train, y_test = custom_train_test_split(X_norm, y)\n"
   ]
  },
  {
   "cell_type": "code",
   "execution_count": 13,
   "id": "e926b6b6",
   "metadata": {},
   "outputs": [
    {
     "name": "stdout",
     "output_type": "stream",
     "text": [
      "Epoch 0, Loss: 0.2969\n",
      "Epoch 1000, Loss: 0.2640\n",
      "Epoch 2000, Loss: 0.2640\n",
      "Epoch 3000, Loss: 0.2640\n",
      "Epoch 4000, Loss: 0.2640\n",
      "Epoch 5000, Loss: 0.2639\n",
      "Epoch 6000, Loss: 0.2639\n",
      "Epoch 7000, Loss: 0.2639\n",
      "Epoch 8000, Loss: 0.2639\n",
      "Epoch 9000, Loss: 0.2639\n",
      "Test Accuracy: 0.6239\n"
     ]
    }
   ],
   "source": [
    "import numpy as np\n",
    "\n",
    "# Fungsi aktivasi sigmoid dan turunannya\n",
    "def sigmoid(x):\n",
    "    return 1 / (1 + np.exp(-x))\n",
    "\n",
    "def sigmoid_derivative(x):\n",
    "    return x * (1 - x)\n",
    "\n",
    "# Fungsi training model neural network\n",
    "def train_backprop(X_train, y_train, hidden_size=10, lr=0.1, epochs=10000):\n",
    "    input_size = X_train.shape[1]\n",
    "    output_size = 1\n",
    "\n",
    "    # Inisialisasi bobot dan bias secara acak\n",
    "    np.random.seed(42)\n",
    "    weights_input_hidden = np.random.rand(input_size, hidden_size)\n",
    "    bias_hidden = np.random.rand(1, hidden_size)\n",
    "    weights_hidden_output = np.random.rand(hidden_size, output_size)\n",
    "    bias_output = np.random.rand(1, output_size)\n",
    "\n",
    "    for epoch in range(epochs):\n",
    "        # Forward pass\n",
    "        hidden_input = np.dot(X_train, weights_input_hidden) + bias_hidden\n",
    "        hidden_output = sigmoid(hidden_input)\n",
    "\n",
    "        final_input = np.dot(hidden_output, weights_hidden_output) + bias_output\n",
    "        final_output = sigmoid(final_input)\n",
    "\n",
    "        # Hitung loss (MSE)\n",
    "        loss = np.mean((y_train - final_output) ** 2)\n",
    "\n",
    "        # Backpropagation\n",
    "        error_output = y_train - final_output\n",
    "        d_output = error_output * sigmoid_derivative(final_output)\n",
    "\n",
    "        error_hidden = d_output.dot(weights_hidden_output.T)\n",
    "        d_hidden = error_hidden * sigmoid_derivative(hidden_output)\n",
    "\n",
    "        # Update bobot dan bias\n",
    "        weights_hidden_output += hidden_output.T.dot(d_output) * lr\n",
    "        bias_output += np.sum(d_output, axis=0, keepdims=True) * lr\n",
    "\n",
    "        weights_input_hidden += X_train.T.dot(d_hidden) * lr\n",
    "        bias_hidden += np.sum(d_hidden, axis=0, keepdims=True) * lr\n",
    "\n",
    "        # Cetak loss tiap 1000 epoch\n",
    "        if epoch % 1000 == 0:\n",
    "            print(f\"Epoch {epoch}, Loss: {loss:.4f}\")\n",
    "\n",
    "    # Kembalikan model terlatih\n",
    "    return {\n",
    "        'weights_input_hidden': weights_input_hidden,\n",
    "        'bias_hidden': bias_hidden,\n",
    "        'weights_hidden_output': weights_hidden_output,\n",
    "        'bias_output': bias_output\n",
    "    }\n",
    "\n",
    "# Fungsi prediksi\n",
    "def predict(X, model):\n",
    "    hidden_input = np.dot(X, model['weights_input_hidden']) + model['bias_hidden']\n",
    "    hidden_output = sigmoid(hidden_input)\n",
    "\n",
    "    final_input = np.dot(hidden_output, model['weights_hidden_output']) + model['bias_output']\n",
    "    final_output = sigmoid(final_input)\n",
    "\n",
    "    return (final_output > 0.5).astype(int)\n",
    "# Train the model\n",
    "model = train_backprop(X_train, y_train.reshape(-1, 1))\n",
    "\n",
    "# Predict on test data and print accuracy\n",
    "y_pred = predict(X_test, model)\n",
    "accuracy = np.mean(y_pred.flatten() == y_test)\n",
    "print(f\"Test Accuracy: {accuracy:.4f}\")\n"
   ]
  },
  {
   "cell_type": "code",
   "execution_count": null,
   "id": "7ed2269a",
   "metadata": {},
   "outputs": [
    {
     "name": "stdout",
     "output_type": "stream",
     "text": [
      "\n",
      "=== Hasil Prediksi Pasien Baru ===\n",
      "Pasien kemungkinan TIDAK menderita penyakit liver.\n"
     ]
    }
   ],
   "source": [
    "pasien_baru = np.array([[65, 1, 0.7, 0.1, 187, 16, 18, 6.8, 3.3, 0]])\n",
    "\n",
    "# Normalisasi pasien_baru menggunakan mean dan std dari X\n",
    "pasien_baru_scaled = (pasien_baru - X.mean(axis=0)) / X.std(axis=0)\n",
    "\n",
    "# Prediksi menggunakan model backpropagation\n",
    "hasil_prediksi = predict(pasien_baru_scaled, model)\n",
    "\n",
    "# Interpretasi hasil prediksi\n",
    "print(\"\\n=== Hasil Prediksi Pasien Baru ===\")\n",
    "if hasil_prediksi[0][0] == 2:\n",
    "    print(\"Pasien kemungkinan MENDERITA penyakit liver.\")\n",
    "else:\n",
    "    print(\"Pasien kemungkinan TIDAK menderita penyakit liver.\")"
   ]
  },
  {
   "cell_type": "code",
   "execution_count": null,
   "id": "2660fac7",
   "metadata": {},
   "outputs": [],
   "source": [
    "pasien_baru_scaled = (pasien_baru - X.mean(axis=0)) / X.std(axis=0)\n",
    "\n",
    "# Prediksi menggunakan model backpropagation\n",
    "hasil_prediksi = predict(pasien_baru_scaled, model)\n",
    "\n",
    "# Interpretasi hasil prediksi\n",
    "print(\"\\n=== Hasil Prediksi Pasien Baru ===\")\n",
    "if hasil_prediksi[0][0] == 2:\n",
    "    print(\"Pasien kemungkinan MENDERITA penyakit liver.\")\n",
    "else:\n",
    "    print(\"Pasien kemungkinan TIDAK menderita penyakit liver.\")"
   ]
  }
 ],
 "metadata": {
  "kernelspec": {
   "display_name": "Python 3",
   "language": "python",
   "name": "python3"
  },
  "language_info": {
   "codemirror_mode": {
    "name": "ipython",
    "version": 3
   },
   "file_extension": ".py",
   "mimetype": "text/x-python",
   "name": "python",
   "nbconvert_exporter": "python",
   "pygments_lexer": "ipython3",
   "version": "3.12.2"
  }
 },
 "nbformat": 4,
 "nbformat_minor": 5
}
