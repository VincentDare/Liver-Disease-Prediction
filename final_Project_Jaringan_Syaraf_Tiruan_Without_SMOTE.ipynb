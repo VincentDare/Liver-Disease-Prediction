{
  "nbformat": 4,
  "nbformat_minor": 0,
  "metadata": {
    "colab": {
      "provenance": []
    },
    "kernelspec": {
      "name": "python3",
      "display_name": "Python 3"
    },
    "language_info": {
      "name": "python"
    }
  },
  "cells": [
    {
      "cell_type": "markdown",
      "source": [
        "# 1. Load dan preprocessing data"
      ],
      "metadata": {
        "id": "c0Q1DVEOKA_1"
      }
    },
    {
      "cell_type": "code",
      "source": [
        "pip install imbalanced-learn"
      ],
      "metadata": {
        "colab": {
          "base_uri": "https://localhost:8080/"
        },
        "id": "dxD2X2MKngWo",
        "outputId": "678628ff-dcde-42e9-9c49-4a89c3b8cf7d"
      },
      "execution_count": null,
      "outputs": [
        {
          "output_type": "stream",
          "name": "stdout",
          "text": [
            "Requirement already satisfied: imbalanced-learn in /usr/local/lib/python3.11/dist-packages (0.13.0)\n",
            "Requirement already satisfied: numpy<3,>=1.24.3 in /usr/local/lib/python3.11/dist-packages (from imbalanced-learn) (2.0.2)\n",
            "Requirement already satisfied: scipy<2,>=1.10.1 in /usr/local/lib/python3.11/dist-packages (from imbalanced-learn) (1.15.3)\n",
            "Requirement already satisfied: scikit-learn<2,>=1.3.2 in /usr/local/lib/python3.11/dist-packages (from imbalanced-learn) (1.6.1)\n",
            "Requirement already satisfied: sklearn-compat<1,>=0.1 in /usr/local/lib/python3.11/dist-packages (from imbalanced-learn) (0.1.3)\n",
            "Requirement already satisfied: joblib<2,>=1.1.1 in /usr/local/lib/python3.11/dist-packages (from imbalanced-learn) (1.5.0)\n",
            "Requirement already satisfied: threadpoolctl<4,>=2.0.0 in /usr/local/lib/python3.11/dist-packages (from imbalanced-learn) (3.6.0)\n"
          ]
        }
      ]
    },
    {
      "cell_type": "code",
      "execution_count": 128,
      "metadata": {
        "id": "ZN5RPYYsJRnH"
      },
      "outputs": [],
      "source": [
        "import numpy as np\n",
        "import pandas as pd\n",
        "import matplotlib.pyplot as plt\n",
        "from collections import Counter # Untuk melihat distribusi kelas"
      ]
    },
    {
      "cell_type": "code",
      "source": [
        "file_path = \"indian_liver_patient.csv\"\n",
        "df = pd.read_csv(file_path)"
      ],
      "metadata": {
        "id": "RSYN8zJkPJ74"
      },
      "execution_count": 129,
      "outputs": []
    },
    {
      "cell_type": "code",
      "source": [
        "# Cek missing values dan isi dengan median jika ada\n",
        "print(df.isnull().sum())"
      ],
      "metadata": {
        "id": "p7ON4OkSXDVr",
        "colab": {
          "base_uri": "https://localhost:8080/"
        },
        "outputId": "5f5676e3-0411-4380-e79b-c9452ffc7dbf"
      },
      "execution_count": 130,
      "outputs": [
        {
          "output_type": "stream",
          "name": "stdout",
          "text": [
            "Age                           0\n",
            "Gender                        0\n",
            "Total_Bilirubin               0\n",
            "Direct_Bilirubin              0\n",
            "Alkaline_Phosphotase          0\n",
            "Alamine_Aminotransferase      0\n",
            "Aspartate_Aminotransferase    0\n",
            "Total_Protiens                0\n",
            "Albumin                       0\n",
            "Albumin_and_Globulin_Ratio    4\n",
            "Dataset                       0\n",
            "dtype: int64\n"
          ]
        }
      ]
    },
    {
      "cell_type": "code",
      "source": [
        "# Pastikan 'columns' didefinisikan atau iterasi langsung pada df.columns\n",
        "for col in df.columns: # Menggunakan df.columns agar lebih robust\n",
        "    if df[col].isnull().sum() > 0:\n",
        "        df[col].fillna(df[col].median(), inplace=True)"
      ],
      "metadata": {
        "colab": {
          "base_uri": "https://localhost:8080/"
        },
        "id": "FcpW968wn9LA",
        "outputId": "48734d54-1a01-4712-a848-211a02ff074f"
      },
      "execution_count": 131,
      "outputs": [
        {
          "output_type": "stream",
          "name": "stderr",
          "text": [
            "<ipython-input-131-2406694639>:4: FutureWarning: A value is trying to be set on a copy of a DataFrame or Series through chained assignment using an inplace method.\n",
            "The behavior will change in pandas 3.0. This inplace method will never work because the intermediate object on which we are setting values always behaves as a copy.\n",
            "\n",
            "For example, when doing 'df[col].method(value, inplace=True)', try using 'df.method({col: value}, inplace=True)' or df[col] = df[col].method(value) instead, to perform the operation inplace on the original object.\n",
            "\n",
            "\n",
            "  df[col].fillna(df[col].median(), inplace=True)\n"
          ]
        }
      ]
    },
    {
      "cell_type": "code",
      "source": [
        "# Pisahkan fitur dan target\n",
        "# DETEKSI \"SAKIT/BERISIKO\" SEBAGAI KELAS POSITIF (1) ***\n",
        "# Dataset: 1 = Liver patient, 2 = Not liver patient\n",
        "# Kita akan mendefinisikan: 1 = Liver patient (Sakit/Berisiko), 0 = Non-Liver patient (Sehat)\n",
        "X = df.drop(columns=['Dataset']).values\n",
        "y = (df['Dataset'].values == 1).astype(int).reshape(-1, 1) # Jika Dataset=1 (sakit), maka y=1. Jika Dataset=2 (sehat), maka y=0.\n",
        "#Encode Gender\n",
        "df['Gender'] = df['Gender'].map({'Male': 1, 'Female': 0})\n",
        "print(f\"\\nBentuk data X: {X.shape}\")\n",
        "print(f\"Bentuk data y: {y.shape}\")\n",
        "print(f\"Jumlah pasien sakit (y=1): {np.sum(y == 1)}\")\n",
        "print(f\"Jumlah pasien sehat (y=0): {np.sum(y == 0)}\")\n",
        "print(f\"Rasio kelas positif: {np.sum(y == 1) / len(y):.2f}\")"
      ],
      "metadata": {
        "colab": {
          "base_uri": "https://localhost:8080/"
        },
        "id": "6K_0SwlfYPZx",
        "outputId": "20250dc7-112c-45ee-dfd5-a922aa46b667"
      },
      "execution_count": 135,
      "outputs": [
        {
          "output_type": "stream",
          "name": "stdout",
          "text": [
            "\n",
            "Bentuk data X: (583, 10)\n",
            "Bentuk data y: (583, 1)\n",
            "Jumlah pasien sakit (y=1): 416\n",
            "Jumlah pasien sehat (y=0): 167\n",
            "Rasio kelas positif: 0.71\n"
          ]
        }
      ]
    },
    {
      "cell_type": "markdown",
      "source": [
        "SPLIT DATA"
      ],
      "metadata": {
        "id": "OJauMyY2KtTZ"
      }
    },
    {
      "cell_type": "code",
      "source": [
        "print(\"\\n--- SPLIT DATA ---\")\n",
        "def train_val_test_split(X, y, val_size=0.15, test_size=0.15, random_state=42):\n",
        "    np.random.seed(random_state)\n",
        "    n = len(X)\n",
        "    idx = np.random.permutation(n)\n",
        "\n",
        "    test_split_idx = int(n * (1 - test_size))\n",
        "    val_split_idx = int(test_split_idx * (1 - val_size / (1 - test_size)))\n",
        "\n",
        "    train_idx = idx[:val_split_idx]\n",
        "    val_idx = idx[val_split_idx:test_split_idx]\n",
        "    test_idx = idx[test_split_idx:]\n",
        "\n",
        "    return X[train_idx], X[val_idx], X[test_idx], \\\n",
        "           y[train_idx], y[val_idx], y[test_idx]\n",
        "\n",
        "X_train, X_val, X_test, y_train, y_val, y_test = train_val_test_split(X, y)\n",
        "\n",
        "print(f\"Bentuk X_train: {X_train.shape}, y_train: {y_train.shape}\")\n",
        "print(f\"Bentuk X_val: {X_val.shape}, y_val: {y_val.shape}\")\n",
        "print(f\"Bentuk X_test: {X_test.shape}, y_test: {y_test.shape}\")\n"
      ],
      "metadata": {
        "colab": {
          "base_uri": "https://localhost:8080/"
        },
        "id": "8WPScituKx82",
        "outputId": "2908c487-bcfd-4c53-fe00-559372607990"
      },
      "execution_count": 136,
      "outputs": [
        {
          "output_type": "stream",
          "name": "stdout",
          "text": [
            "\n",
            "--- SPLIT DATA ---\n",
            "Bentuk X_train: (407, 10), y_train: (407, 1)\n",
            "Bentuk X_val: (88, 10), y_val: (88, 1)\n",
            "Bentuk X_test: (88, 10), y_test: (88, 1)\n"
          ]
        }
      ]
    },
    {
      "cell_type": "code",
      "source": [
        "print(\"\\n--- Normalisasi fitur berdasarkan X_train ---\")\n",
        "mean = X_train.mean(axis=0)\n",
        "std = X_train.std(axis=0)\n",
        "std[std == 0] = 1  # Hindari pembagian dengan nol\n",
        "\n",
        "X_train_normalized = (X_train - mean) / std\n",
        "X_val_normalized = (X_val - mean) / std\n",
        "X_test_normalized = (X_test - mean) / std\n",
        "\n",
        "print(f\"Bentuk X_train setelah Normalisasi: {X_train_normalized.shape}, y_train: {y_train.shape}\")\n",
        "print(f\"Bentuk X_val setelah Normalisasi: {X_val_normalized.shape}, y_val: {y_val.shape}\")\n",
        "print(f\"Bentuk X_test setelah Normalisasi: {X_test_normalized.shape}, y_test: {y_test.shape}\")\n"
      ],
      "metadata": {
        "colab": {
          "base_uri": "https://localhost:8080/"
        },
        "id": "UumQdfSIMh7M",
        "outputId": "885799f5-f59e-4b76-ac77-a4f4f63810f5"
      },
      "execution_count": 137,
      "outputs": [
        {
          "output_type": "stream",
          "name": "stdout",
          "text": [
            "\n",
            "--- Normalisasi fitur berdasarkan X_train ---\n",
            "Bentuk X_train setelah Normalisasi: (407, 10), y_train: (407, 1)\n",
            "Bentuk X_val setelah Normalisasi: (88, 10), y_val: (88, 1)\n",
            "Bentuk X_test setelah Normalisasi: (88, 10), y_test: (88, 1)\n"
          ]
        }
      ]
    },
    {
      "cell_type": "markdown",
      "source": [
        "# 2. Neural Network dengan backpropagation"
      ],
      "metadata": {
        "id": "jGYGNUnMQajM"
      }
    },
    {
      "cell_type": "code",
      "source": [
        "print(\"\\n--- 2. Membangun Neural Network ---\")\n",
        "class NeuralNetwork:\n",
        "    def __init__(self, input_size, hidden_size, output_size, dropout_rate=0.0):\n",
        "        np.random.seed(42)\n",
        "        self.dropout_rate = dropout_rate\n",
        "\n",
        "        self.weights_input_hidden = np.random.randn(input_size, hidden_size) * np.sqrt(2.0 / input_size)\n",
        "        self.bias_hidden = np.zeros((1, hidden_size))\n",
        "\n",
        "        self.weights_hidden_output = np.random.randn(hidden_size, output_size) * np.sqrt(1.0 / hidden_size)\n",
        "        self.bias_output = np.zeros((1, output_size))\n",
        "\n",
        "    def relu(self, x):\n",
        "        return np.maximum(0, x)\n",
        "\n",
        "    def relu_derivative(self, x):\n",
        "        return (x > 0).astype(float)\n",
        "\n",
        "    def sigmoid(self, x):\n",
        "        x = np.clip(x, -500, 500)\n",
        "        return 1 / (1 + np.exp(-x))\n",
        "\n",
        "    def feedforward(self, X, training=True):\n",
        "        self.z1 = np.dot(X, self.weights_input_hidden) + self.bias_hidden\n",
        "        self.a1 = self.relu(self.z1)\n",
        "\n",
        "        if training and self.dropout_rate > 0:\n",
        "            self.mask = (np.random.rand(*self.a1.shape) > self.dropout_rate) / (1 - self.dropout_rate)\n",
        "            self.a1 *= self.mask\n",
        "        else:\n",
        "            self.mask = np.ones_like(self.a1) # Should not scale during inference\n",
        "\n",
        "        self.z2 = np.dot(self.a1, self.weights_hidden_output) + self.bias_output\n",
        "        self.a2 = self.sigmoid(self.z2)\n",
        "        return self.a2\n",
        "\n",
        "    def compute_loss(self, y_true, y_pred):\n",
        "        y_pred = np.clip(y_pred, 1e-10, 1 - 1e-10)\n",
        "        loss = -np.mean(y_true * np.log(y_pred) + (1 - y_true) * np.log(1 - y_pred))\n",
        "        return loss\n",
        "\n",
        "    def backward(self, X, y_true, y_pred, learning_rate):\n",
        "        error_output = y_pred - y_true\n",
        "        delta_output = error_output\n",
        "\n",
        "        d_weights_hidden_output = np.dot(self.a1.T, delta_output)\n",
        "        d_bias_output = np.sum(delta_output, axis=0, keepdims=True)\n",
        "\n",
        "        error_hidden = np.dot(delta_output, self.weights_hidden_output.T)\n",
        "        delta_hidden = error_hidden * self.relu_derivative(self.z1)\n",
        "\n",
        "        if self.dropout_rate > 0:\n",
        "            delta_hidden *= self.mask # Apply mask to delta_hidden in backward pass as well\n",
        "\n",
        "        d_weights_input_hidden = np.dot(X.T, delta_hidden)\n",
        "        d_bias_hidden = np.sum(delta_hidden, axis=0, keepdims=True)\n",
        "\n",
        "        self.weights_hidden_output -= learning_rate * d_weights_hidden_output\n",
        "        self.bias_output -= learning_rate * d_bias_output\n",
        "        self.weights_input_hidden -= learning_rate * d_weights_input_hidden\n",
        "        self.bias_hidden -= learning_rate * d_bias_hidden\n",
        "\n",
        "    def train(self, X_train, y_train, X_val, y_val, epochs, learning_rate, batch_size=32, patience=75):\n",
        "        losses_train = []\n",
        "        losses_val = []\n",
        "        accuracies_train = []\n",
        "        accuracies_val = []\n",
        "\n",
        "        best_val_loss = float('inf')\n",
        "        best_weights = None\n",
        "        epochs_no_improve = 0\n",
        "\n",
        "        n_samples = X_train.shape[0]\n",
        "\n",
        "        print(f\"\\nMemulai pelatihan untuk {epochs} epoch...\")\n",
        "        for epoch in range(epochs):\n",
        "            indices = np.random.permutation(n_samples)\n",
        "            X_shuffled = X_train[indices]\n",
        "            y_shuffled = y_train[indices]\n",
        "\n",
        "            for start in range(0, n_samples, batch_size):\n",
        "                end = start + batch_size\n",
        "                xb = X_shuffled[start:end]\n",
        "                yb = y_shuffled[start:end]\n",
        "\n",
        "                y_pred_batch = self.feedforward(xb, training=True)\n",
        "                self.backward(xb, yb, y_pred_batch, learning_rate)\n",
        "\n",
        "            # Evaluate on full training set\n",
        "            y_pred_train = self.feedforward(X_train, training=False)\n",
        "            loss_train = self.compute_loss(y_train, y_pred_train)\n",
        "            losses_train.append(loss_train)\n",
        "            preds_train = (y_pred_train > 0.5).astype(int)\n",
        "            acc_train = np.mean(preds_train == y_train)\n",
        "            accuracies_train.append(acc_train)\n",
        "\n",
        "            # Evaluate on validation set\n",
        "            y_pred_val = self.feedforward(X_val, training=False)\n",
        "            loss_val = self.compute_loss(y_val, y_pred_val)\n",
        "            losses_val.append(loss_val)\n",
        "            preds_val = (y_pred_val > 0.5).astype(int)\n",
        "            acc_val = np.mean(preds_val == y_val)\n",
        "            accuracies_val.append(acc_val)\n",
        "\n",
        "\n",
        "            if epoch % 50 == 0 or epoch == epochs - 1:\n",
        "                print(f\"Epoch {epoch+1}/{epochs} - L_Train: {loss_train:.4f} | A_Train: {acc_train*100:.2f}% | L_Val: {loss_val:.4f} | A_Val: {acc_val*100:.2f}%\")\n",
        "\n",
        "        print(\"\\nPelatihan selesai.\")\n",
        "        # Ensure best weights are loaded if training completed without early stopping\n",
        "        if best_weights is not None and epochs_no_improve < patience:\n",
        "             (self.weights_input_hidden,\n",
        "              self.weights_hidden_output,\n",
        "              self.bias_hidden,\n",
        "              self.bias_output) = best_weights\n",
        "        return losses_train, accuracies_train, losses_val, accuracies_val\n",
        "\n",
        "    def predict(self, X, threshold=0.5):\n",
        "        y_pred_proba = self.feedforward(X, training=False)\n",
        "        return (y_pred_proba > threshold).astype(int)"
      ],
      "metadata": {
        "id": "r6EusidvK9kE",
        "colab": {
          "base_uri": "https://localhost:8080/"
        },
        "outputId": "afd1fca3-401a-4f42-ede5-2c3ce213535d"
      },
      "execution_count": 138,
      "outputs": [
        {
          "output_type": "stream",
          "name": "stdout",
          "text": [
            "\n",
            "--- 2. Membangun Neural Network ---\n"
          ]
        }
      ]
    },
    {
      "cell_type": "markdown",
      "source": [
        "# 3. Inisialisasi dan training"
      ],
      "metadata": {
        "id": "Aveu5_7yLEmF"
      }
    },
    {
      "cell_type": "code",
      "source": [
        "input_size = X_train_normalized.shape[1]\n",
        "hidden_size = 6\n",
        "output_size = 1\n",
        "\n",
        "nn = NeuralNetwork(input_size, hidden_size, output_size, dropout_rate=0.2)\n",
        "\n",
        "epochs = 5000\n",
        "learning_rate = 0.06\n",
        "batch_size = 16\n",
        "\n",
        "losses_train, accuracies_train, losses_val, accuracies_val = nn.train(\n",
        "    X_train_normalized, y_train,\n",
        "    X_val_normalized, y_val,\n",
        "    epochs, learning_rate, batch_size)\n",
        "\n",
        "y_test_pred = nn.predict(X_test_normalized)\n",
        "accuracy_test = np.mean(y_test_pred == y_test)\n",
        "print(f\"Akurasi pada data test: {accuracy_test*100:.2f}%\")"
      ],
      "metadata": {
        "colab": {
          "base_uri": "https://localhost:8080/"
        },
        "id": "dG5sKCfkLIBc",
        "outputId": "e59e3aad-15a3-4b9c-b898-ce3f912c150d"
      },
      "execution_count": 145,
      "outputs": [
        {
          "output_type": "stream",
          "name": "stdout",
          "text": [
            "\n",
            "Memulai pelatihan untuk 5000 epoch...\n",
            "Epoch 1/5000 - L_Train: 0.5367 | A_Train: 72.48% | L_Val: 0.5506 | A_Val: 70.45%\n",
            "Epoch 51/5000 - L_Train: 0.4641 | A_Train: 74.45% | L_Val: 0.5295 | A_Val: 68.18%\n",
            "Epoch 101/5000 - L_Train: 0.4398 | A_Train: 75.68% | L_Val: 0.5812 | A_Val: 68.18%\n",
            "Epoch 151/5000 - L_Train: 0.4482 | A_Train: 74.45% | L_Val: 0.6129 | A_Val: 68.18%\n",
            "Epoch 201/5000 - L_Train: 0.4504 | A_Train: 74.69% | L_Val: 0.6299 | A_Val: 72.73%\n",
            "Epoch 251/5000 - L_Train: 0.4376 | A_Train: 75.18% | L_Val: 0.6946 | A_Val: 64.77%\n",
            "Epoch 301/5000 - L_Train: 0.4354 | A_Train: 74.69% | L_Val: 0.6789 | A_Val: 69.32%\n",
            "Epoch 351/5000 - L_Train: 0.4320 | A_Train: 75.43% | L_Val: 0.6126 | A_Val: 65.91%\n",
            "Epoch 401/5000 - L_Train: 0.4419 | A_Train: 73.22% | L_Val: 0.6743 | A_Val: 70.45%\n",
            "Epoch 451/5000 - L_Train: 0.4334 | A_Train: 78.87% | L_Val: 0.6189 | A_Val: 68.18%\n",
            "Epoch 501/5000 - L_Train: 0.4328 | A_Train: 76.17% | L_Val: 0.5990 | A_Val: 71.59%\n",
            "Epoch 551/5000 - L_Train: 0.4229 | A_Train: 77.89% | L_Val: 0.7112 | A_Val: 65.91%\n",
            "Epoch 601/5000 - L_Train: 0.4225 | A_Train: 75.43% | L_Val: 0.8004 | A_Val: 70.45%\n",
            "Epoch 651/5000 - L_Train: 0.4114 | A_Train: 77.40% | L_Val: 0.7069 | A_Val: 67.05%\n",
            "Epoch 701/5000 - L_Train: 0.4151 | A_Train: 75.92% | L_Val: 0.7218 | A_Val: 69.32%\n",
            "Epoch 751/5000 - L_Train: 0.4040 | A_Train: 77.40% | L_Val: 0.9170 | A_Val: 68.18%\n",
            "Epoch 801/5000 - L_Train: 0.4197 | A_Train: 74.94% | L_Val: 0.8390 | A_Val: 71.59%\n",
            "Epoch 851/5000 - L_Train: 0.4007 | A_Train: 78.13% | L_Val: 0.9616 | A_Val: 71.59%\n",
            "Epoch 901/5000 - L_Train: 0.3953 | A_Train: 77.40% | L_Val: 1.0270 | A_Val: 69.32%\n",
            "Epoch 951/5000 - L_Train: 0.4042 | A_Train: 78.62% | L_Val: 0.8302 | A_Val: 67.05%\n",
            "Epoch 1001/5000 - L_Train: 0.4120 | A_Train: 76.41% | L_Val: 1.0065 | A_Val: 70.45%\n",
            "Epoch 1051/5000 - L_Train: 0.4162 | A_Train: 76.17% | L_Val: 0.9227 | A_Val: 70.45%\n",
            "Epoch 1101/5000 - L_Train: 0.4165 | A_Train: 76.90% | L_Val: 0.9049 | A_Val: 68.18%\n",
            "Epoch 1151/5000 - L_Train: 0.4245 | A_Train: 73.96% | L_Val: 1.0424 | A_Val: 70.45%\n",
            "Epoch 1201/5000 - L_Train: 0.3980 | A_Train: 77.89% | L_Val: 0.9106 | A_Val: 69.32%\n",
            "Epoch 1251/5000 - L_Train: 0.3870 | A_Train: 81.08% | L_Val: 1.1398 | A_Val: 63.64%\n",
            "Epoch 1301/5000 - L_Train: 0.3939 | A_Train: 80.84% | L_Val: 1.0912 | A_Val: 67.05%\n",
            "Epoch 1351/5000 - L_Train: 0.3900 | A_Train: 79.85% | L_Val: 1.0307 | A_Val: 65.91%\n",
            "Epoch 1401/5000 - L_Train: 0.3869 | A_Train: 78.62% | L_Val: 1.0001 | A_Val: 68.18%\n",
            "Epoch 1451/5000 - L_Train: 0.3932 | A_Train: 77.40% | L_Val: 1.1260 | A_Val: 69.32%\n",
            "Epoch 1501/5000 - L_Train: 0.3879 | A_Train: 78.13% | L_Val: 0.9419 | A_Val: 69.32%\n",
            "Epoch 1551/5000 - L_Train: 0.3920 | A_Train: 81.57% | L_Val: 0.9651 | A_Val: 65.91%\n",
            "Epoch 1601/5000 - L_Train: 0.3852 | A_Train: 78.13% | L_Val: 0.8848 | A_Val: 67.05%\n",
            "Epoch 1651/5000 - L_Train: 0.3974 | A_Train: 77.64% | L_Val: 0.9356 | A_Val: 71.59%\n",
            "Epoch 1701/5000 - L_Train: 0.3991 | A_Train: 76.90% | L_Val: 1.0501 | A_Val: 71.59%\n",
            "Epoch 1751/5000 - L_Train: 0.3854 | A_Train: 79.12% | L_Val: 1.0011 | A_Val: 68.18%\n",
            "Epoch 1801/5000 - L_Train: 0.3856 | A_Train: 78.62% | L_Val: 1.0898 | A_Val: 67.05%\n",
            "Epoch 1851/5000 - L_Train: 0.3895 | A_Train: 80.59% | L_Val: 1.0339 | A_Val: 68.18%\n",
            "Epoch 1901/5000 - L_Train: 0.4064 | A_Train: 77.40% | L_Val: 1.1819 | A_Val: 70.45%\n",
            "Epoch 1951/5000 - L_Train: 0.3979 | A_Train: 77.15% | L_Val: 1.0302 | A_Val: 67.05%\n",
            "Epoch 2001/5000 - L_Train: 0.3859 | A_Train: 79.12% | L_Val: 0.9952 | A_Val: 68.18%\n",
            "Epoch 2051/5000 - L_Train: 0.3847 | A_Train: 78.13% | L_Val: 1.0309 | A_Val: 69.32%\n",
            "Epoch 2101/5000 - L_Train: 0.3831 | A_Train: 76.90% | L_Val: 1.0360 | A_Val: 68.18%\n",
            "Epoch 2151/5000 - L_Train: 0.3906 | A_Train: 77.40% | L_Val: 0.9888 | A_Val: 69.32%\n",
            "Epoch 2201/5000 - L_Train: 0.3857 | A_Train: 79.12% | L_Val: 1.0507 | A_Val: 68.18%\n",
            "Epoch 2251/5000 - L_Train: 0.3826 | A_Train: 80.34% | L_Val: 1.0681 | A_Val: 65.91%\n",
            "Epoch 2301/5000 - L_Train: 0.3865 | A_Train: 75.92% | L_Val: 1.0884 | A_Val: 70.45%\n",
            "Epoch 2351/5000 - L_Train: 0.3950 | A_Train: 76.90% | L_Val: 1.0059 | A_Val: 67.05%\n",
            "Epoch 2401/5000 - L_Train: 0.3831 | A_Train: 77.40% | L_Val: 1.0029 | A_Val: 70.45%\n",
            "Epoch 2451/5000 - L_Train: 0.4103 | A_Train: 76.17% | L_Val: 1.0866 | A_Val: 70.45%\n",
            "Epoch 2501/5000 - L_Train: 0.3856 | A_Train: 78.38% | L_Val: 1.1432 | A_Val: 68.18%\n",
            "Epoch 2551/5000 - L_Train: 0.3963 | A_Train: 76.17% | L_Val: 1.1247 | A_Val: 71.59%\n",
            "Epoch 2601/5000 - L_Train: 0.3806 | A_Train: 80.34% | L_Val: 1.0708 | A_Val: 70.45%\n",
            "Epoch 2651/5000 - L_Train: 0.3945 | A_Train: 78.87% | L_Val: 0.9765 | A_Val: 67.05%\n",
            "Epoch 2701/5000 - L_Train: 0.3832 | A_Train: 78.62% | L_Val: 1.1135 | A_Val: 69.32%\n",
            "Epoch 2751/5000 - L_Train: 0.3831 | A_Train: 78.38% | L_Val: 1.0489 | A_Val: 67.05%\n",
            "Epoch 2801/5000 - L_Train: 0.3855 | A_Train: 80.84% | L_Val: 1.0084 | A_Val: 68.18%\n",
            "Epoch 2851/5000 - L_Train: 0.3888 | A_Train: 78.62% | L_Val: 0.9889 | A_Val: 68.18%\n",
            "Epoch 2901/5000 - L_Train: 0.3841 | A_Train: 80.34% | L_Val: 1.0846 | A_Val: 69.32%\n",
            "Epoch 2951/5000 - L_Train: 0.3990 | A_Train: 76.66% | L_Val: 0.9418 | A_Val: 71.59%\n",
            "Epoch 3001/5000 - L_Train: 0.3888 | A_Train: 78.13% | L_Val: 0.9615 | A_Val: 69.32%\n",
            "Epoch 3051/5000 - L_Train: 0.4036 | A_Train: 76.17% | L_Val: 1.0198 | A_Val: 71.59%\n",
            "Epoch 3101/5000 - L_Train: 0.3782 | A_Train: 79.61% | L_Val: 1.1200 | A_Val: 65.91%\n",
            "Epoch 3151/5000 - L_Train: 0.3839 | A_Train: 78.62% | L_Val: 1.3350 | A_Val: 68.18%\n",
            "Epoch 3201/5000 - L_Train: 0.3917 | A_Train: 77.40% | L_Val: 1.0639 | A_Val: 70.45%\n",
            "Epoch 3251/5000 - L_Train: 0.3822 | A_Train: 80.10% | L_Val: 1.1819 | A_Val: 67.05%\n",
            "Epoch 3301/5000 - L_Train: 0.3979 | A_Train: 78.38% | L_Val: 1.2386 | A_Val: 70.45%\n",
            "Epoch 3351/5000 - L_Train: 0.3876 | A_Train: 78.38% | L_Val: 1.0798 | A_Val: 70.45%\n",
            "Epoch 3401/5000 - L_Train: 0.3799 | A_Train: 79.36% | L_Val: 1.0643 | A_Val: 68.18%\n",
            "Epoch 3451/5000 - L_Train: 0.4025 | A_Train: 77.15% | L_Val: 1.1024 | A_Val: 67.05%\n",
            "Epoch 3501/5000 - L_Train: 0.3877 | A_Train: 80.10% | L_Val: 0.9517 | A_Val: 68.18%\n",
            "Epoch 3551/5000 - L_Train: 0.3869 | A_Train: 78.38% | L_Val: 1.2471 | A_Val: 68.18%\n",
            "Epoch 3601/5000 - L_Train: 0.3982 | A_Train: 76.17% | L_Val: 1.1146 | A_Val: 72.73%\n",
            "Epoch 3651/5000 - L_Train: 0.3831 | A_Train: 77.89% | L_Val: 1.2417 | A_Val: 69.32%\n",
            "Epoch 3701/5000 - L_Train: 0.3773 | A_Train: 79.12% | L_Val: 1.0873 | A_Val: 70.45%\n",
            "Epoch 3751/5000 - L_Train: 0.3778 | A_Train: 78.62% | L_Val: 1.2971 | A_Val: 69.32%\n",
            "Epoch 3801/5000 - L_Train: 0.3844 | A_Train: 78.38% | L_Val: 1.0179 | A_Val: 68.18%\n",
            "Epoch 3851/5000 - L_Train: 0.3831 | A_Train: 81.08% | L_Val: 1.1011 | A_Val: 65.91%\n",
            "Epoch 3901/5000 - L_Train: 0.3922 | A_Train: 75.68% | L_Val: 1.1285 | A_Val: 70.45%\n",
            "Epoch 3951/5000 - L_Train: 0.4022 | A_Train: 76.17% | L_Val: 1.1658 | A_Val: 71.59%\n",
            "Epoch 4001/5000 - L_Train: 0.3766 | A_Train: 78.62% | L_Val: 1.0888 | A_Val: 70.45%\n",
            "Epoch 4051/5000 - L_Train: 0.4027 | A_Train: 76.17% | L_Val: 1.0638 | A_Val: 73.86%\n",
            "Epoch 4101/5000 - L_Train: 0.3870 | A_Train: 79.85% | L_Val: 1.0919 | A_Val: 65.91%\n",
            "Epoch 4151/5000 - L_Train: 0.3805 | A_Train: 77.40% | L_Val: 1.1243 | A_Val: 68.18%\n",
            "Epoch 4201/5000 - L_Train: 0.3867 | A_Train: 76.17% | L_Val: 1.1099 | A_Val: 71.59%\n",
            "Epoch 4251/5000 - L_Train: 0.3879 | A_Train: 76.66% | L_Val: 1.0717 | A_Val: 70.45%\n",
            "Epoch 4301/5000 - L_Train: 0.3834 | A_Train: 77.15% | L_Val: 0.9941 | A_Val: 70.45%\n",
            "Epoch 4351/5000 - L_Train: 0.3852 | A_Train: 78.62% | L_Val: 1.1614 | A_Val: 68.18%\n",
            "Epoch 4401/5000 - L_Train: 0.3779 | A_Train: 77.15% | L_Val: 1.1594 | A_Val: 71.59%\n",
            "Epoch 4451/5000 - L_Train: 0.3762 | A_Train: 78.62% | L_Val: 1.0709 | A_Val: 69.32%\n",
            "Epoch 4501/5000 - L_Train: 0.3756 | A_Train: 80.34% | L_Val: 1.1655 | A_Val: 67.05%\n",
            "Epoch 4551/5000 - L_Train: 0.3788 | A_Train: 77.64% | L_Val: 1.1687 | A_Val: 68.18%\n",
            "Epoch 4601/5000 - L_Train: 0.3817 | A_Train: 77.64% | L_Val: 1.1674 | A_Val: 69.32%\n",
            "Epoch 4651/5000 - L_Train: 0.3700 | A_Train: 79.61% | L_Val: 1.1527 | A_Val: 68.18%\n",
            "Epoch 4701/5000 - L_Train: 0.4077 | A_Train: 75.92% | L_Val: 1.2628 | A_Val: 72.73%\n",
            "Epoch 4751/5000 - L_Train: 0.3900 | A_Train: 77.15% | L_Val: 1.1437 | A_Val: 71.59%\n",
            "Epoch 4801/5000 - L_Train: 0.3789 | A_Train: 79.61% | L_Val: 1.2041 | A_Val: 65.91%\n",
            "Epoch 4851/5000 - L_Train: 0.4028 | A_Train: 76.90% | L_Val: 1.2668 | A_Val: 70.45%\n",
            "Epoch 4901/5000 - L_Train: 0.3952 | A_Train: 78.13% | L_Val: 1.1182 | A_Val: 65.91%\n",
            "Epoch 4951/5000 - L_Train: 0.3702 | A_Train: 78.87% | L_Val: 1.1710 | A_Val: 65.91%\n",
            "Epoch 5000/5000 - L_Train: 0.3729 | A_Train: 79.85% | L_Val: 1.1040 | A_Val: 69.32%\n",
            "\n",
            "Pelatihan selesai.\n",
            "Akurasi pada data test: 78.41%\n"
          ]
        }
      ]
    },
    {
      "cell_type": "code",
      "source": [
        "print(\"\\n--- 4. Evaluasi Model pada Data Test ---\")\n",
        "\n",
        "y_test_pred_proba = nn.feedforward(X_test_normalized, training=False)\n",
        "y_test_pred = (y_test_pred_proba > 0.5).astype(int)\n",
        "\n",
        "def calculate_metrics(y_true, y_pred):\n",
        "    tp = np.sum((y_true == 1) & (y_pred == 1))\n",
        "    tn = np.sum((y_true == 0) & (y_pred == 0))\n",
        "    fp = np.sum((y_true == 0) & (y_pred == 1))\n",
        "    fn = np.sum((y_true == 1) & (y_pred == 0))\n",
        "\n",
        "    accuracy = (tp + tn) / (tp + tn + fp + fn)\n",
        "\n",
        "    precision = tp / (tp + fp) if (tp + fp) > 0 else 0\n",
        "    recall = tp / (tp + fn) if (tp + fn) > 0 else 0\n",
        "    f1_score = 2 * (precision * recall) / (precision + recall) if (precision + recall) > 0 else 0\n",
        "\n",
        "    return accuracy, precision, recall, f1_score, {'TP': tp, 'TN': tn, 'FP': fp, 'FN': fn}\n",
        "\n",
        "test_accuracy, test_precision, test_recall, test_f1_score, confusion_matrix_counts = \\\n",
        "    calculate_metrics(y_test, y_test_pred)\n",
        "\n",
        "print(f\"\\nHasil Evaluasi (Kelas Positif = 'Pasien Penyakit Hati / Berisiko'):\")\n",
        "print(f\"Akurasi pada data test: {test_accuracy * 100:.2f}%\")\n",
        "print(f\"Precision pada data test: {test_precision * 100:.2f}%\")\n",
        "print(f\"Recall pada data test: {test_recall * 100:.2f}%\")\n",
        "print(f\"F1-Score pada data test: {test_f1_score * 100:.2f}%\")\n",
        "\n",
        "print(\"\\nConfusion Matrix (jumlah):\")\n",
        "print(\"--------------------------\")\n",
        "print(f\"True Positive (TP): {confusion_matrix_counts['TP']}  (Benar memprediksi pasien sakit)\")\n",
        "print(f\"False Negative (FN): {confusion_matrix_counts['FN']} (Gagal memprediksi pasien sakit)\")\n",
        "print(f\"False Positive (FP): {confusion_matrix_counts['FP']} (Salah memprediksi orang sehat jadi sakit)\")\n",
        "print(f\"True Negative (TN): {confusion_matrix_counts['TN']} (Benar memprediksi orang sehat)\")\n",
        "print(\"--------------------------\")"
      ],
      "metadata": {
        "colab": {
          "base_uri": "https://localhost:8080/"
        },
        "id": "a1UywfMHLeVD",
        "outputId": "29f305d1-7d78-45c1-e1de-c883ff7df8f7"
      },
      "execution_count": 146,
      "outputs": [
        {
          "output_type": "stream",
          "name": "stdout",
          "text": [
            "\n",
            "--- 4. Evaluasi Model pada Data Test ---\n",
            "\n",
            "Hasil Evaluasi (Kelas Positif = 'Pasien Penyakit Hati / Berisiko'):\n",
            "Akurasi pada data test: 78.41%\n",
            "Precision pada data test: 78.95%\n",
            "Recall pada data test: 95.24%\n",
            "F1-Score pada data test: 86.33%\n",
            "\n",
            "Confusion Matrix (jumlah):\n",
            "--------------------------\n",
            "True Positive (TP): 60  (Benar memprediksi pasien sakit)\n",
            "False Negative (FN): 3 (Gagal memprediksi pasien sakit)\n",
            "False Positive (FP): 16 (Salah memprediksi orang sehat jadi sakit)\n",
            "True Negative (TN): 9 (Benar memprediksi orang sehat)\n",
            "--------------------------\n"
          ]
        }
      ]
    },
    {
      "cell_type": "code",
      "source": [
        "plt.figure(figsize=(12, 5))\n",
        "\n",
        "plt.subplot(1, 2, 1)\n",
        "plt.plot(losses_train, label='Training Loss')\n",
        "plt.plot(losses_val, label='Validation Loss')\n",
        "plt.title('Loss per Epoch')\n",
        "plt.xlabel('Epoch')\n",
        "plt.ylabel('Loss')\n",
        "plt.legend()\n",
        "plt.grid(True)\n",
        "\n",
        "plt.subplot(1, 2, 2)\n",
        "plt.plot(accuracies_train, label='Training Accuracy')\n",
        "plt.plot(accuracies_val, label='Validation Accuracy')\n",
        "plt.title('Accuracy per Epoch')\n",
        "plt.xlabel('Epoch')\n",
        "plt.ylabel('Accuracy')\n",
        "plt.legend()\n",
        "plt.grid(True)\n",
        "\n",
        "plt.tight_layout()\n",
        "plt.show()"
      ],
      "metadata": {
        "colab": {
          "base_uri": "https://localhost:8080/",
          "height": 474
        },
        "id": "Ewq7N3-Te0Zi",
        "outputId": "2a4b577f-0ec5-4724-95ba-c1b4c3461857"
      },
      "execution_count": 87,
      "outputs": [
        {
          "output_type": "display_data",
          "data": {
            "text/plain": [
              "<Figure size 1200x500 with 2 Axes>"
            ],
            "image/png": "[encoded data removed]"
          },
          "metadata": {}
        }
      ]
    },
    {
      "cell_type": "code",
      "source": [
        "# --- 6. Contoh Deteksi untuk Pasien Baru ---\n",
        "print(\"\\n--- 6. Contoh Deteksi untuk Pasien Baru ---\")\n",
        "\n",
        "# Data pasien baru (contoh dummy data)\n",
        "# Tetap gunakan data mentah, normalisasi akan dilakukan setelah ini\n",
        "data_pasien_baru_1 = np.array([[\n",
        "    45,    # Age\n",
        "    1,     # Gender (1 for Male, 0 for Female)\n",
        "    1.2,   # Total_Bilirubin\n",
        "    0.3,   # Direct_Bilirubin\n",
        "    180,   # Alkphos_ALP\n",
        "    45,    # Alamine_Aminotransferase_ALT\n",
        "    50,    # Aspartate_Aminotransferase_AST\n",
        "    7.0,   # Total_Protiens\n",
        "    3.5,   # Albumin\n",
        "    0.5    # Albumin_and_Globulin_Ratio\n",
        "]])\n",
        "\n",
        "data_pasien_baru_2 = np.array([[\n",
        "    60,    # Age\n",
        "    0,     # Gender (1 for Male, 0 for Female)\n",
        "    5.5,   # Total_Bilirubin\n",
        "    2.8,   # Direct_Bilirubin\n",
        "    250,   # Alkphos_ALP\n",
        "    150,   # Alamine_Aminotransferase_ALT\n",
        "    200,   # Aspartate_Aminotransferase_AST\n",
        "    6.0,   # Total_Protiens\n",
        "    2.5,   # Albumin\n",
        "    0.8    # Albumin_and_Globulin_Ratio\n",
        "]])\n",
        "\n",
        "data_pasien_baru_3 = np.array([[\n",
        "    30,    # Age\n",
        "    0,     # Gender (0 = Female)\n",
        "    0.8,   # Total_Bilirubin\n",
        "    0.2,   # Direct_Bilirubin\n",
        "    100,   # Alkaline_Phosphotase\n",
        "    20,    # Alamine_Aminotransferase\n",
        "    25,    # Aspartate_Aminotransferase\n",
        "    7.5,   # Total_Protiens\n",
        "    4.0,   # Albumin\n",
        "    1.1    # Albumin_and_Globulin_Ratio\n",
        "]])\n",
        "\n",
        "data_pasien_baru_4 = np.array([[\n",
        "    55,    # Age\n",
        "    1,     # Gender (1 = Male)\n",
        "    4.5,   # Total_Bilirubin (tinggi)\n",
        "    1.8,   # Direct_Bilirubin (tinggi)\n",
        "    300,   # Alkaline_Phosphotase (tinggi)\n",
        "    120,   # Alamine_Aminotransferase (tinggi)\n",
        "    180,   # Aspartate_Aminotransferase (tinggi)\n",
        "    6.0,   # Total_Protiens (agak rendah)\n",
        "    2.8,   # Albumin (rendah)\n",
        "    0.6    # Albumin_and_Globulin_Ratio (rendah)\n",
        "]])\n",
        "\n",
        "data_pasien_baru_5 = np.array([[\n",
        "    40,    # Age\n",
        "    0,     # Gender (0 = Female)\n",
        "    1.5,   # Total_Bilirubin (agak tinggi)\n",
        "    0.4,   # Direct_Bilirubin\n",
        "    150,   # Alkaline_Phosphotase\n",
        "    60,    # Alamine_Aminotransferase (agak tinggi)\n",
        "    40,    # Aspartate_Aminotransferase\n",
        "    6.8,   # Total_Protiens\n",
        "    3.2,   # Albumin\n",
        "    0.9    # Albumin_and_Globulin_Ratio\n",
        "]])\n",
        "\n",
        "data_pasien_baru_6 = np.array([[\n",
        "    20,    # Age\n",
        "    0,     # Gender (0 = Female)\n",
        "    2.5,   # Total_Bilirubin (agak tinggi)\n",
        "    1.4,   # Direct_Bilirubin\n",
        "    160,   # Alkaline_Phosphotase\n",
        "    60,    # Alamine_Aminotransferase (agak tinggi)\n",
        "    50,    # Aspartate_Aminotransferase\n",
        "    6.8,   # Total_Protiens\n",
        "    3.2,   # Albumin\n",
        "    1.9    # Albumin_and_Globulin_Ratio\n",
        "]])"
      ],
      "metadata": {
        "colab": {
          "base_uri": "https://localhost:8080/"
        },
        "id": "5Wk9njmqhMiJ",
        "outputId": "7062579b-3648-4c6e-998c-66b70ce28c33"
      },
      "execution_count": 88,
      "outputs": [
        {
          "output_type": "stream",
          "name": "stdout",
          "text": [
            "\n",
            "--- 6. Contoh Deteksi untuk Pasien Baru ---\n"
          ]
        }
      ]
    },
    {
      "cell_type": "code",
      "source": [
        "# Normalisasi data pasien baru menggunakan mean dan std dari TRAIN set (yang sudah di-resample)\n",
        "data_pasien_baru_1_normalized = (data_pasien_baru_1 - mean) / std\n",
        "data_pasien_baru_2_normalized = (data_pasien_baru_2 - mean) / std\n",
        "data_pasien_baru_3_normalized = (data_pasien_baru_3 - mean) / std\n",
        "data_pasien_baru_4_normalized = (data_pasien_baru_4 - mean) / std\n",
        "data_pasien_baru_5_normalized = (data_pasien_baru_5 - mean) / std\n",
        "data_pasien_baru_6_normalized = (data_pasien_baru_6 - mean) / std"
      ],
      "metadata": {
        "id": "XEPBpHJlhnPZ"
      },
      "execution_count": 89,
      "outputs": []
    },
    {
      "cell_type": "code",
      "source": [
        "print(\"\\n--- Deteksi Pasien 1 ---\")\n",
        "probabilitas_1 = nn.feedforward(data_pasien_baru_1_normalized, training=False)\n",
        "# Coba threshold 0.5 dan juga 0.6 atau 0.7 untuk perbandingan\n",
        "prediksi_binary_1_06 = nn.predict(data_pasien_baru_1_normalized, threshold=0.6)\n",
        "\n",
        "print(f\"Probabilitas model (pasien hati): {probabilitas_1[0][0]:.4f}\")\n",
        "if prediksi_binary_1_06[0][0] == 1:\n",
        "    print(f\"Prediksi (Threshold 0.6): Pasien kemungkinan memiliki penyakit hati.\")\n",
        "else:\n",
        "    print(f\"Prediksi (Threshold 0.6): Pasien kemungkinan tidak memiliki penyakit hati.\")"
      ],
      "metadata": {
        "colab": {
          "base_uri": "https://localhost:8080/"
        },
        "id": "zzzyXXo7hpPA",
        "outputId": "504489b0-14d0-4443-ca9a-c0db00b44ba6"
      },
      "execution_count": 90,
      "outputs": [
        {
          "output_type": "stream",
          "name": "stdout",
          "text": [
            "\n",
            "--- Deteksi Pasien 1 ---\n",
            "Probabilitas model (pasien hati): 0.4624\n",
            "Prediksi (Threshold 0.6): Pasien kemungkinan tidak memiliki penyakit hati.\n"
          ]
        }
      ]
    },
    {
      "cell_type": "code",
      "source": [
        "# --- Deteksi Pasien 2 ---\n",
        "print(\"\\n--- Deteksi Pasien 2 ---\")\n",
        "probabilitas_2 = nn.feedforward(data_pasien_baru_2_normalized, training=False)\n",
        "prediksi_binary_2_05 = nn.predict(data_pasien_baru_2_normalized, threshold=0.5)\n",
        "\n",
        "print(f\"Probabilitas model (pasien hati): {probabilitas_2[0][0]:.4f}\")\n",
        "if prediksi_binary_2_05[0][0] == 1:\n",
        "    print(f\"Prediksi (Threshold 0.5): Pasien kemungkinan memiliki penyakit hati.\")\n",
        "else:\n",
        "    print(f\"Prediksi (Threshold 0.5): Pasien kemungkinan tidak memiliki penyakit hati.\")"
      ],
      "metadata": {
        "colab": {
          "base_uri": "https://localhost:8080/"
        },
        "id": "xRMUzHgVhq-4",
        "outputId": "3a9b40dd-bef7-4ef0-f797-9099f12c0ad3"
      },
      "execution_count": 91,
      "outputs": [
        {
          "output_type": "stream",
          "name": "stdout",
          "text": [
            "\n",
            "--- Deteksi Pasien 2 ---\n",
            "Probabilitas model (pasien hati): 1.0000\n",
            "Prediksi (Threshold 0.5): Pasien kemungkinan memiliki penyakit hati.\n"
          ]
        }
      ]
    },
    {
      "cell_type": "code",
      "source": [
        "# --- Deteksi Pasien 3 ---\n",
        "print(\"\\n--- Deteksi Pasien 3 ---\")\n",
        "probabilitas_3 = nn.feedforward(data_pasien_baru_3_normalized, training=False)\n",
        "prediksi_binary_3_05 = nn.predict(data_pasien_baru_3_normalized, threshold=0.5)\n",
        "\n",
        "print(f\"Probabilitas model (pasien hati): {probabilitas_3[0][0]:.4f}\")\n",
        "if prediksi_binary_3_05[0][0] == 1:\n",
        "    print(f\"Prediksi (Threshold 0.5): Pasien kemungkinan memiliki penyakit hati.\")\n",
        "else:\n",
        "    print(f\"Prediksi (Threshold 0.5): Pasien kemungkinan tidak memiliki penyakit hati.\")"
      ],
      "metadata": {
        "colab": {
          "base_uri": "https://localhost:8080/"
        },
        "id": "M7DXzop9hvZM",
        "outputId": "7adfca73-2e42-41bc-bcb8-800b01dcd250"
      },
      "execution_count": 92,
      "outputs": [
        {
          "output_type": "stream",
          "name": "stdout",
          "text": [
            "\n",
            "--- Deteksi Pasien 3 ---\n",
            "Probabilitas model (pasien hati): 0.4874\n",
            "Prediksi (Threshold 0.5): Pasien kemungkinan tidak memiliki penyakit hati.\n"
          ]
        }
      ]
    },
    {
      "cell_type": "code",
      "source": [
        "# --- Deteksi Pasien 4 ---\n",
        "print(\"\\n--- Deteksi Pasien 4 ---\")\n",
        "probabilitas_4 = nn.feedforward(data_pasien_baru_4_normalized, training=False)\n",
        "prediksi_binary_4_06 = nn.predict(data_pasien_baru_4_normalized, threshold=0.6)\n",
        "\n",
        "print(f\"Probabilitas model (pasien hati): {probabilitas_4[0][0]:.4f}\")\n",
        "if prediksi_binary_4_06[0][0] == 1:\n",
        "    print(f\"Prediksi (Threshold 0.6): Pasien kemungkinan memiliki penyakit hati.\")\n",
        "else:\n",
        "    print(f\"Prediksi (Threshold 0.6): Pasien kemungkinan tidak memiliki penyakit hati.\")"
      ],
      "metadata": {
        "colab": {
          "base_uri": "https://localhost:8080/"
        },
        "id": "GDEMj8Qah12v",
        "outputId": "06051a4c-c4fe-4b2f-fa0b-9a9a559215db"
      },
      "execution_count": 93,
      "outputs": [
        {
          "output_type": "stream",
          "name": "stdout",
          "text": [
            "\n",
            "--- Deteksi Pasien 4 ---\n",
            "Probabilitas model (pasien hati): 1.0000\n",
            "Prediksi (Threshold 0.6): Pasien kemungkinan memiliki penyakit hati.\n"
          ]
        }
      ]
    },
    {
      "cell_type": "code",
      "source": [
        "# --- Deteksi Pasien 5 ---\n",
        "print(\"\\n--- Deteksi Pasien 5 ---\")\n",
        "probabilitas_5 = nn.feedforward(data_pasien_baru_5_normalized, training=False)\n",
        "prediksi_binary_5_06 = nn.predict(data_pasien_baru_5_normalized, threshold=0.6)\n",
        "\n",
        "print(f\"Probabilitas model (pasien hati): {probabilitas_5[0][0]:.4f}\")\n",
        "if prediksi_binary_5_06[0][0] == 1:\n",
        "    print(f\"Prediksi (Threshold 0.6): Pasien kemungkinan memiliki penyakit hati.\")\n",
        "else:\n",
        "    print(f\"Prediksi (Threshold 0.6): Pasien kemungkinan tidak memiliki penyakit hati.\")"
      ],
      "metadata": {
        "colab": {
          "base_uri": "https://localhost:8080/"
        },
        "id": "7lqraoKyh6Br",
        "outputId": "9fc889c7-1981-4a99-f1b6-43dd3097aff7"
      },
      "execution_count": 94,
      "outputs": [
        {
          "output_type": "stream",
          "name": "stdout",
          "text": [
            "\n",
            "--- Deteksi Pasien 5 ---\n",
            "Probabilitas model (pasien hati): 0.8320\n",
            "Prediksi (Threshold 0.6): Pasien kemungkinan memiliki penyakit hati.\n"
          ]
        }
      ]
    },
    {
      "cell_type": "code",
      "source": [
        "# --- Deteksi Pasien 6 ---\n",
        "print(\"\\n--- Deteksi Pasien 6 ---\")\n",
        "probabilitas_6 = nn.feedforward(data_pasien_baru_6_normalized, training=False)\n",
        "prediksi_binary_6_06 = nn.predict(data_pasien_baru_6_normalized, threshold=0.6)\n",
        "\n",
        "print(f\"Probabilitas model (pasien hati): {probabilitas_6[0][0]:.4f}\")\n",
        "if prediksi_binary_6_06[0][0] == 1:\n",
        "    print(f\"Prediksi (Threshold 0.6): Pasien kemungkinan memiliki penyakit hati.\")\n",
        "else:\n",
        "    print(f\"Prediksi (Threshold 0.6): Pasien kemungkinan tidak memiliki penyakit hati.\")"
      ],
      "metadata": {
        "colab": {
          "base_uri": "https://localhost:8080/"
        },
        "id": "J8rluBQ6ikzR",
        "outputId": "48afaf8c-90be-45ee-99dc-6651b8a33508"
      },
      "execution_count": 95,
      "outputs": [
        {
          "output_type": "stream",
          "name": "stdout",
          "text": [
            "\n",
            "--- Deteksi Pasien 6 ---\n",
            "Probabilitas model (pasien hati): 0.9831\n",
            "Prediksi (Threshold 0.6): Pasien kemungkinan memiliki penyakit hati.\n"
          ]
        }
      ]
    }
  ]
}