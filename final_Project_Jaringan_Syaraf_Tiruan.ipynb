{
  "nbformat": 4,
  "nbformat_minor": 0,
  "metadata": {
    "colab": {
      "provenance": []
    },
    "kernelspec": {
      "name": "python3",
      "display_name": "Python 3"
    },
    "language_info": {
      "name": "python"
    }
  },
  "cells": [
    {
      "cell_type": "markdown",
      "source": [
        "PROJECT JARINGAN SYARAF TIRUAN"
      ],
      "metadata": {
        "id": "4i78iy_oJ7rg"
      }
    },
    {
      "cell_type": "markdown",
      "source": [
        "# 1. Load dan preprocessing data"
      ],
      "metadata": {
        "id": "c0Q1DVEOKA_1"
      }
    },
    {
      "cell_type": "code",
      "source": [
        "pip install imbalanced-learn"
      ],
      "metadata": {
        "colab": {
          "base_uri": "https://localhost:8080/"
        },
        "id": "dxD2X2MKngWo",
        "outputId": "678628ff-dcde-42e9-9c49-4a89c3b8cf7d"
      },
      "execution_count": null,
      "outputs": [
        {
          "output_type": "stream",
          "name": "stdout",
          "text": [
            "Requirement already satisfied: imbalanced-learn in /usr/local/lib/python3.11/dist-packages (0.13.0)\n",
            "Requirement already satisfied: numpy<3,>=1.24.3 in /usr/local/lib/python3.11/dist-packages (from imbalanced-learn) (2.0.2)\n",
            "Requirement already satisfied: scipy<2,>=1.10.1 in /usr/local/lib/python3.11/dist-packages (from imbalanced-learn) (1.15.3)\n",
            "Requirement already satisfied: scikit-learn<2,>=1.3.2 in /usr/local/lib/python3.11/dist-packages (from imbalanced-learn) (1.6.1)\n",
            "Requirement already satisfied: sklearn-compat<1,>=0.1 in /usr/local/lib/python3.11/dist-packages (from imbalanced-learn) (0.1.3)\n",
            "Requirement already satisfied: joblib<2,>=1.1.1 in /usr/local/lib/python3.11/dist-packages (from imbalanced-learn) (1.5.0)\n",
            "Requirement already satisfied: threadpoolctl<4,>=2.0.0 in /usr/local/lib/python3.11/dist-packages (from imbalanced-learn) (3.6.0)\n"
          ]
        }
      ]
    },
    {
      "cell_type": "code",
      "execution_count": 1,
      "metadata": {
        "id": "ZN5RPYYsJRnH"
      },
      "outputs": [],
      "source": [
        "import numpy as np\n",
        "import pandas as pd\n",
        "import matplotlib.pyplot as plt\n",
        "from imblearn.over_sampling import SMOTE # Import SMOTE\n",
        "from collections import Counter # Untuk melihat distribusi kelas"
      ]
    },
    {
      "cell_type": "code",
      "source": [
        "file_path = \"indian_liver_patient.csv\"\n",
        "df = pd.read_csv(file_path)"
      ],
      "metadata": {
        "id": "RSYN8zJkPJ74"
      },
      "execution_count": 3,
      "outputs": []
    },
    {
      "cell_type": "code",
      "source": [
        "# Cek missing values dan isi dengan median jika ada\n",
        "print(df.isnull().sum())"
      ],
      "metadata": {
        "id": "p7ON4OkSXDVr"
      },
      "execution_count": null,
      "outputs": []
    },
    {
      "cell_type": "code",
      "source": [
        "# Cek missing values dan isi dengan median jika ada\n",
        "print(df.isnull().sum())\n",
        "# Pastikan 'columns' didefinisikan atau iterasi langsung pada df.columns\n",
        "for col in df.columns: # Menggunakan df.columns agar lebih robust\n",
        "    if df[col].isnull().sum() > 0:\n",
        "        df[col].fillna(df[col].median(), inplace=True)"
      ],
      "metadata": {
        "colab": {
          "base_uri": "https://localhost:8080/"
        },
        "id": "FcpW968wn9LA",
        "outputId": "5331de75-f782-419f-c412-746429b8bc57"
      },
      "execution_count": 4,
      "outputs": [
        {
          "output_type": "stream",
          "name": "stdout",
          "text": [
            "Age                           0\n",
            "Gender                        0\n",
            "Total_Bilirubin               0\n",
            "Direct_Bilirubin              0\n",
            "Alkaline_Phosphotase          0\n",
            "Alamine_Aminotransferase      0\n",
            "Aspartate_Aminotransferase    0\n",
            "Total_Protiens                0\n",
            "Albumin                       0\n",
            "Albumin_and_Globulin_Ratio    4\n",
            "Dataset                       0\n",
            "dtype: int64\n"
          ]
        },
        {
          "output_type": "stream",
          "name": "stderr",
          "text": [
            "<ipython-input-4-2034495069>:6: FutureWarning: A value is trying to be set on a copy of a DataFrame or Series through chained assignment using an inplace method.\n",
            "The behavior will change in pandas 3.0. This inplace method will never work because the intermediate object on which we are setting values always behaves as a copy.\n",
            "\n",
            "For example, when doing 'df[col].method(value, inplace=True)', try using 'df.method({col: value}, inplace=True)' or df[col] = df[col].method(value) instead, to perform the operation inplace on the original object.\n",
            "\n",
            "\n",
            "  df[col].fillna(df[col].median(), inplace=True)\n"
          ]
        }
      ]
    },
    {
      "cell_type": "code",
      "source": [
        "# Pisahkan fitur dan target\n",
        "# DETEKSI \"SAKIT/BERISIKO\" SEBAGAI KELAS POSITIF (1) ***\n",
        "# Dataset: 1 = Liver patient, 2 = Not liver patient\n",
        "# Kita akan mendefinisikan: 1 = Liver patient (Sakit/Berisiko), 0 = Non-Liver patient (Sehat)\n",
        "X = df.drop(columns=['Dataset']).values\n",
        "y = (df['Dataset'].values == 1).astype(int).reshape(-1, 1) # Jika Dataset=1 (sakit), maka y=1. Jika Dataset=2 (sehat), maka y=0.\n",
        "#Encode Gender\n",
        "df['Gender'] = df['Gender'].map({'Male': 1, 'Female': 0})\n",
        "print(f\"\\nBentuk data X: {X.shape}\")\n",
        "print(f\"Bentuk data y: {y.shape}\")\n",
        "print(f\"Jumlah pasien sakit (y=1): {np.sum(y == 1)}\")\n",
        "print(f\"Jumlah pasien sehat (y=0): {np.sum(y == 0)}\")\n",
        "print(f\"Rasio kelas positif: {np.sum(y == 1) / len(y):.2f}\")"
      ],
      "metadata": {
        "colab": {
          "base_uri": "https://localhost:8080/"
        },
        "id": "6K_0SwlfYPZx",
        "outputId": "8b771e09-1e08-46c2-8c7f-396c961492e8"
      },
      "execution_count": 8,
      "outputs": [
        {
          "output_type": "stream",
          "name": "stdout",
          "text": [
            "\n",
            "Bentuk data X: (583, 10)\n",
            "Bentuk data y: (583, 1)\n",
            "Jumlah pasien sakit (y=1): 416\n",
            "Jumlah pasien sehat (y=0): 167\n",
            "Rasio kelas positif: 0.71\n"
          ]
        }
      ]
    },
    {
      "cell_type": "markdown",
      "source": [
        "SPLIT DATA"
      ],
      "metadata": {
        "id": "OJauMyY2KtTZ"
      }
    },
    {
      "cell_type": "code",
      "source": [
        "print(\"\\n--- SPLIT DATA ---\")\n",
        "def train_val_test_split(X, y, val_size=0.15, test_size=0.15, random_state=42):\n",
        "    \"\"\"\n",
        "    Membagi data menjadi set pelatihan, validasi, dan pengujian.\n",
        "    \"\"\"\n",
        "    np.random.seed(random_state)\n",
        "    n = len(X)\n",
        "    idx = np.random.permutation(n) # Mengacak indeks\n",
        "\n",
        "    # Menghitung ukuran set\n",
        "    test_split_idx = int(n * (1 - test_size))\n",
        "    val_split_idx = int(test_split_idx * (1 - val_size / (1 - test_size))) # Proporsi val dari sisa data setelah test\n",
        "\n",
        "    train_idx = idx[:val_split_idx]\n",
        "    val_idx = idx[val_split_idx:test_split_idx]\n",
        "    test_idx = idx[test_split_idx:]\n",
        "\n",
        "    return X[train_idx], X[val_idx], X[test_idx], \\\n",
        "           y[train_idx], y[val_idx], y[test_idx]\n",
        "\n",
        "# Menggunakan proporsi split yang sedikit berbeda untuk distribusi yang lebih merata\n",
        "# Misalnya, 70% train, 15% val, 15% test\n",
        "X_train, X_val, X_test, y_train, y_val, y_test = train_val_test_split(X, y)\n",
        "\n",
        "print(f\"Bentuk X_train: {X_train.shape}, y_train: {y_train.shape}\")\n",
        "print(f\"Bentuk X_val: {X_val.shape}, y_val: {y_val.shape}\")\n",
        "print(f\"Bentuk X_test: {X_test.shape}, y_test: {y_test.shape}\")\n",
        "\n",
        "# --- Penerapan SMOTE di SINI ---\n",
        "print(\"\\n--- Menerapkan SMOTE pada data training ---\")\n",
        "print(f\"Distribusi kelas y_train sebelum SMOTE: {Counter(y_train.flatten())}\")\n",
        "\n",
        "sm = SMOTE(random_state=42)\n",
        "# SMOTE mengharapkan y dalam bentuk 1D, jadi kita gunakan y_train.flatten()\n",
        "X_train_resampled, y_train_resampled = sm.fit_resample(X_train, y_train.flatten())\n",
        "\n",
        "print(f\"Distribusi kelas y_train setelah SMOTE: {Counter(y_train_resampled)}\")\n",
        "\n",
        "# Setelah SMOTE, y_train_resampled adalah 1D. Jika model Anda butuh 2D, reshape kembali.\n",
        "y_train_resampled = y_train_resampled.reshape(-1, 1)\n",
        "\n",
        "# --- Normalisasi fitur berdasarkan train set yang sudah di-resample ---\n",
        "# PENTING: Mean dan Std harus dihitung dari X_train_resampled\n",
        "mean = X_train_resampled.mean(axis=0)\n",
        "std = X_train_resampled.std(axis=0)\n",
        "std[std == 0] = 1 # Ganti 0 dengan 1 untuk menghindari ZeroDivisionError\n",
        "\n",
        "X_train_normalized = (X_train_resampled - mean) / std\n",
        "X_val_normalized = (X_val - mean) / std\n",
        "X_test_normalized = (X_test - mean) / std\n",
        "\n",
        "print(f\"Bentuk X_train setelah SMOTE & Normalisasi: {X_train_normalized.shape}, y_train setelah SMOTE: {y_train_resampled.shape}\")\n",
        "print(f\"Bentuk X_val setelah Normalisasi: {X_val_normalized.shape}, y_val: {y_val.shape}\")\n",
        "print(f\"Bentuk X_test setelah Normalisasi: {X_test_normalized.shape}, y_test: {y_test.shape}\")"
      ],
      "metadata": {
        "colab": {
          "base_uri": "https://localhost:8080/"
        },
        "id": "8WPScituKx82",
        "outputId": "3caeec02-54d9-49fb-a901-2db78b77b679"
      },
      "execution_count": 9,
      "outputs": [
        {
          "output_type": "stream",
          "name": "stdout",
          "text": [
            "\n",
            "--- SPLIT DATA ---\n",
            "Bentuk X_train: (407, 10), y_train: (407, 1)\n",
            "Bentuk X_val: (88, 10), y_val: (88, 1)\n",
            "Bentuk X_test: (88, 10), y_test: (88, 1)\n",
            "\n",
            "--- Menerapkan SMOTE pada data training ---\n",
            "Distribusi kelas y_train sebelum SMOTE: Counter({np.int64(1): 289, np.int64(0): 118})\n",
            "Distribusi kelas y_train setelah SMOTE: Counter({np.int64(0): 289, np.int64(1): 289})\n",
            "Bentuk X_train setelah SMOTE & Normalisasi: (578, 10), y_train setelah SMOTE: (578, 1)\n",
            "Bentuk X_val setelah Normalisasi: (88, 10), y_val: (88, 1)\n",
            "Bentuk X_test setelah Normalisasi: (88, 10), y_test: (88, 1)\n"
          ]
        }
      ]
    },
    {
      "cell_type": "markdown",
      "source": [
        "# 2. Neural Network dengan backpropagation"
      ],
      "metadata": {
        "id": "jGYGNUnMQajM"
      }
    },
    {
      "cell_type": "code",
      "source": [
        "print(\"\\n--- 2. Membangun Neural Network ---\")\n",
        "class NeuralNetwork:\n",
        "    def __init__(self, input_size, hidden_size, output_size, dropout_rate=0.0):\n",
        "        np.random.seed(42)\n",
        "        self.dropout_rate = dropout_rate\n",
        "\n",
        "        self.weights_input_hidden = np.random.randn(input_size, hidden_size) * np.sqrt(2.0 / input_size)\n",
        "        self.bias_hidden = np.zeros((1, hidden_size))\n",
        "\n",
        "        self.weights_hidden_output = np.random.randn(hidden_size, output_size) * np.sqrt(1.0 / hidden_size)\n",
        "        self.bias_output = np.zeros((1, output_size))\n",
        "\n",
        "    def relu(self, x):\n",
        "        return np.maximum(0, x)\n",
        "\n",
        "    def relu_derivative(self, x):\n",
        "        return (x > 0).astype(float)\n",
        "\n",
        "    def sigmoid(self, x):\n",
        "        x = np.clip(x, -500, 500)\n",
        "        return 1 / (1 + np.exp(-x))\n",
        "\n",
        "    def feedforward(self, X, training=True):\n",
        "        self.z1 = np.dot(X, self.weights_input_hidden) + self.bias_hidden\n",
        "        self.a1 = self.relu(self.z1)\n",
        "\n",
        "        if training and self.dropout_rate > 0:\n",
        "            self.mask = (np.random.rand(*self.a1.shape) > self.dropout_rate) / (1 - self.dropout_rate)\n",
        "            self.a1 *= self.mask\n",
        "        else:\n",
        "            self.mask = np.ones_like(self.a1) # Should not scale during inference\n",
        "\n",
        "        self.z2 = np.dot(self.a1, self.weights_hidden_output) + self.bias_output\n",
        "        self.a2 = self.sigmoid(self.z2)\n",
        "        return self.a2\n",
        "\n",
        "    def compute_loss(self, y_true, y_pred):\n",
        "        y_pred = np.clip(y_pred, 1e-10, 1 - 1e-10)\n",
        "        loss = -np.mean(y_true * np.log(y_pred) + (1 - y_true) * np.log(1 - y_pred))\n",
        "        return loss\n",
        "\n",
        "    def backward(self, X, y_true, y_pred, learning_rate):\n",
        "        error_output = y_pred - y_true\n",
        "        delta_output = error_output\n",
        "\n",
        "        d_weights_hidden_output = np.dot(self.a1.T, delta_output)\n",
        "        d_bias_output = np.sum(delta_output, axis=0, keepdims=True)\n",
        "\n",
        "        error_hidden = np.dot(delta_output, self.weights_hidden_output.T)\n",
        "        delta_hidden = error_hidden * self.relu_derivative(self.z1)\n",
        "\n",
        "        if self.dropout_rate > 0:\n",
        "            delta_hidden *= self.mask # Apply mask to delta_hidden in backward pass as well\n",
        "\n",
        "        d_weights_input_hidden = np.dot(X.T, delta_hidden)\n",
        "        d_bias_hidden = np.sum(delta_hidden, axis=0, keepdims=True)\n",
        "\n",
        "        self.weights_hidden_output -= learning_rate * d_weights_hidden_output\n",
        "        self.bias_output -= learning_rate * d_bias_output\n",
        "        self.weights_input_hidden -= learning_rate * d_weights_input_hidden\n",
        "        self.bias_hidden -= learning_rate * d_bias_hidden\n",
        "\n",
        "    def train(self, X_train, y_train, X_val, y_val, epochs, learning_rate, batch_size=32, patience=75):\n",
        "        losses_train = []\n",
        "        losses_val = []\n",
        "        accuracies_train = []\n",
        "        accuracies_val = []\n",
        "\n",
        "        best_val_loss = float('inf')\n",
        "        best_weights = None\n",
        "        epochs_no_improve = 0\n",
        "\n",
        "        n_samples = X_train.shape[0]\n",
        "\n",
        "        print(f\"\\nMemulai pelatihan untuk {epochs} epoch...\")\n",
        "        for epoch in range(epochs):\n",
        "            indices = np.random.permutation(n_samples)\n",
        "            X_shuffled = X_train[indices]\n",
        "            y_shuffled = y_train[indices]\n",
        "\n",
        "            for start in range(0, n_samples, batch_size):\n",
        "                end = start + batch_size\n",
        "                xb = X_shuffled[start:end]\n",
        "                yb = y_shuffled[start:end]\n",
        "\n",
        "                y_pred_batch = self.feedforward(xb, training=True)\n",
        "                self.backward(xb, yb, y_pred_batch, learning_rate)\n",
        "\n",
        "            # Evaluate on full training set\n",
        "            y_pred_train = self.feedforward(X_train, training=False)\n",
        "            loss_train = self.compute_loss(y_train, y_pred_train)\n",
        "            losses_train.append(loss_train)\n",
        "            preds_train = (y_pred_train > 0.5).astype(int)\n",
        "            acc_train = np.mean(preds_train == y_train)\n",
        "            accuracies_train.append(acc_train)\n",
        "\n",
        "            # Evaluate on validation set\n",
        "            y_pred_val = self.feedforward(X_val, training=False)\n",
        "            loss_val = self.compute_loss(y_val, y_pred_val)\n",
        "            losses_val.append(loss_val)\n",
        "            preds_val = (y_pred_val > 0.5).astype(int)\n",
        "            acc_val = np.mean(preds_val == y_val)\n",
        "            accuracies_val.append(acc_val)\n",
        "\n",
        "            # Early stopping logic\n",
        "            if loss_val < best_val_loss:\n",
        "                best_val_loss = loss_val\n",
        "                best_weights = (self.weights_input_hidden.copy(),\n",
        "                                self.weights_hidden_output.copy(),\n",
        "                                self.bias_hidden.copy(),\n",
        "                                self.bias_output.copy())\n",
        "                epochs_no_improve = 0\n",
        "            else:\n",
        "                epochs_no_improve += 1\n",
        "                if epochs_no_improve >= patience:\n",
        "                    print(f\"\\nEarly stopping di epoch {epoch+1} karena validasi loss tidak membaik selama {patience} epoch.\")\n",
        "                    # Restore best weights\n",
        "                    (self.weights_input_hidden,\n",
        "                     self.weights_hidden_output,\n",
        "                     self.bias_hidden,\n",
        "                     self.bias_output) = best_weights\n",
        "                    break\n",
        "\n",
        "            if epoch % 50 == 0 or epoch == epochs - 1:\n",
        "                print(f\"Epoch {epoch+1}/{epochs} - L_Train: {loss_train:.4f} | A_Train: {acc_train*100:.2f}% | L_Val: {loss_val:.4f} | A_Val: {acc_val*100:.2f}%\")\n",
        "\n",
        "        print(\"\\nPelatihan selesai.\")\n",
        "        # Ensure best weights are loaded if training completed without early stopping\n",
        "        if best_weights is not None and epochs_no_improve < patience:\n",
        "             (self.weights_input_hidden,\n",
        "              self.weights_hidden_output,\n",
        "              self.bias_hidden,\n",
        "              self.bias_output) = best_weights\n",
        "        return losses_train, accuracies_train, losses_val, accuracies_val\n",
        "\n",
        "    def predict(self, X, threshold=0.5):\n",
        "        y_pred_proba = self.feedforward(X, training=False)\n",
        "        return (y_pred_proba > threshold).astype(int)"
      ],
      "metadata": {
        "id": "r6EusidvK9kE",
        "colab": {
          "base_uri": "https://localhost:8080/"
        },
        "outputId": "cecdd314-a204-425b-ce15-afc0157ca5bc"
      },
      "execution_count": 23,
      "outputs": [
        {
          "output_type": "stream",
          "name": "stdout",
          "text": [
            "\n",
            "--- 2. Membangun Neural Network ---\n"
          ]
        }
      ]
    },
    {
      "cell_type": "markdown",
      "source": [
        "# 3. Inisialisasi dan training"
      ],
      "metadata": {
        "id": "Aveu5_7yLEmF"
      }
    },
    {
      "cell_type": "code",
      "source": [
        "input_size = X_train_normalized.shape[1] # Gunakan X_train_normalized\n",
        "hidden_size = 12\n",
        "output_size = 1\n",
        "\n",
        "nn = NeuralNetwork(input_size, hidden_size, output_size, dropout_rate=0.3)\n",
        "\n",
        "epochs = 2000\n",
        "learning_rate = 0.0002\n",
        "batch_size = 50\n",
        "patience = 100\n",
        "\n",
        "losses_train, accuracies_train, losses_val, accuracies_val = nn.train(\n",
        "    X_train_normalized, y_train_resampled, X_val_normalized, y_val, epochs, learning_rate, batch_size, patience) # Gunakan data SMOTE"
      ],
      "metadata": {
        "colab": {
          "base_uri": "https://localhost:8080/"
        },
        "id": "dG5sKCfkLIBc",
        "outputId": "15d785d2-f33c-4cc4-92a5-c140fb23d38f"
      },
      "execution_count": 48,
      "outputs": [
        {
          "output_type": "stream",
          "name": "stdout",
          "text": [
            "\n",
            "Memulai pelatihan untuk 2000 epoch...\n",
            "Epoch 1/2000 - L_Train: 0.7509 | A_Train: 43.25% | L_Val: 0.7132 | A_Val: 51.14%\n",
            "Epoch 51/2000 - L_Train: 0.6151 | A_Train: 67.47% | L_Val: 0.6347 | A_Val: 53.41%\n",
            "Epoch 101/2000 - L_Train: 0.5858 | A_Train: 69.38% | L_Val: 0.6201 | A_Val: 53.41%\n",
            "Epoch 151/2000 - L_Train: 0.5666 | A_Train: 71.63% | L_Val: 0.6122 | A_Val: 55.68%\n",
            "Epoch 201/2000 - L_Train: 0.5523 | A_Train: 72.66% | L_Val: 0.6069 | A_Val: 57.95%\n",
            "Epoch 251/2000 - L_Train: 0.5412 | A_Train: 74.57% | L_Val: 0.6059 | A_Val: 60.23%\n",
            "Epoch 301/2000 - L_Train: 0.5329 | A_Train: 74.57% | L_Val: 0.6038 | A_Val: 59.09%\n",
            "Epoch 351/2000 - L_Train: 0.5261 | A_Train: 74.91% | L_Val: 0.6052 | A_Val: 59.09%\n",
            "Epoch 401/2000 - L_Train: 0.5219 | A_Train: 74.91% | L_Val: 0.6073 | A_Val: 61.36%\n",
            "\n",
            "Early stopping di epoch 415 karena validasi loss tidak membaik selama 100 epoch.\n",
            "\n",
            "Pelatihan selesai.\n"
          ]
        }
      ]
    },
    {
      "cell_type": "code",
      "source": [
        "y_test_pred = nn.predict(X_test_normalized)\n",
        "accuracy_test = np.mean(y_test_pred == y_test)\n",
        "print(f\"Akurasi pada data test: {accuracy_test*100:.2f}%\")"
      ],
      "metadata": {
        "colab": {
          "base_uri": "https://localhost:8080/"
        },
        "id": "vkkadhlKUo42",
        "outputId": "263f3ae9-d628-488c-e804-8ed7cdd25ede"
      },
      "execution_count": 49,
      "outputs": [
        {
          "output_type": "stream",
          "name": "stdout",
          "text": [
            "Akurasi pada data test: 67.05%\n"
          ]
        }
      ]
    },
    {
      "cell_type": "code",
      "source": [
        "print(\"\\n--- 4. Evaluasi Model pada Data Test ---\")\n",
        "\n",
        "y_test_pred_proba = nn.feedforward(X_test_normalized, training=False)\n",
        "y_test_pred = (y_test_pred_proba > 0.5).astype(int)\n",
        "\n",
        "def calculate_metrics(y_true, y_pred):\n",
        "    tp = np.sum((y_true == 1) & (y_pred == 1))\n",
        "    tn = np.sum((y_true == 0) & (y_pred == 0))\n",
        "    fp = np.sum((y_true == 0) & (y_pred == 1))\n",
        "    fn = np.sum((y_true == 1) & (y_pred == 0))\n",
        "\n",
        "    accuracy = (tp + tn) / (tp + tn + fp + fn)\n",
        "\n",
        "    precision = tp / (tp + fp) if (tp + fp) > 0 else 0\n",
        "    recall = tp / (tp + fn) if (tp + fn) > 0 else 0\n",
        "    f1_score = 2 * (precision * recall) / (precision + recall) if (precision + recall) > 0 else 0\n",
        "\n",
        "    return accuracy, precision, recall, f1_score, {'TP': tp, 'TN': tn, 'FP': fp, 'FN': fn}\n",
        "\n",
        "test_accuracy, test_precision, test_recall, test_f1_score, confusion_matrix_counts = \\\n",
        "    calculate_metrics(y_test, y_test_pred)\n",
        "\n",
        "print(f\"\\nHasil Evaluasi (Kelas Positif = 'Pasien Penyakit Hati / Berisiko'):\")\n",
        "print(f\"Akurasi pada data test: {test_accuracy * 100:.2f}%\")\n",
        "print(f\"Precision pada data test: {test_precision * 100:.2f}%\")\n",
        "print(f\"Recall pada data test: {test_recall * 100:.2f}%\")\n",
        "print(f\"F1-Score pada data test: {test_f1_score * 100:.2f}%\")\n",
        "\n",
        "print(\"\\nConfusion Matrix (jumlah):\")\n",
        "print(\"--------------------------\")\n",
        "print(f\"True Positive (TP): {confusion_matrix_counts['TP']}  (Benar memprediksi pasien sakit)\")\n",
        "print(f\"False Negative (FN): {confusion_matrix_counts['FN']} (Gagal memprediksi pasien sakit)\")\n",
        "print(f\"False Positive (FP): {confusion_matrix_counts['FP']} (Salah memprediksi orang sehat jadi sakit)\")\n",
        "print(f\"True Negative (TN): {confusion_matrix_counts['TN']} (Benar memprediksi orang sehat)\")\n",
        "print(\"--------------------------\")"
      ],
      "metadata": {
        "colab": {
          "base_uri": "https://localhost:8080/"
        },
        "id": "a1UywfMHLeVD",
        "outputId": "dcc0bbf9-963b-4d40-d22e-98c23f3f2385"
      },
      "execution_count": 37,
      "outputs": [
        {
          "output_type": "stream",
          "name": "stdout",
          "text": [
            "\n",
            "--- 4. Evaluasi Model pada Data Test ---\n",
            "\n",
            "Hasil Evaluasi (Kelas Positif = 'Pasien Penyakit Hati / Berisiko'):\n",
            "Akurasi pada data test: 67.05%\n",
            "Precision pada data test: 82.69%\n",
            "Recall pada data test: 68.25%\n",
            "F1-Score pada data test: 74.78%\n",
            "\n",
            "Confusion Matrix (jumlah):\n",
            "--------------------------\n",
            "True Positive (TP): 43  (Benar memprediksi pasien sakit)\n",
            "False Negative (FN): 20 (Gagal memprediksi pasien sakit)\n",
            "False Positive (FP): 9 (Salah memprediksi orang sehat jadi sakit)\n",
            "True Negative (TN): 16 (Benar memprediksi orang sehat)\n",
            "--------------------------\n"
          ]
        }
      ]
    },
    {
      "cell_type": "code",
      "source": [
        "plt.figure(figsize=(12, 5))\n",
        "\n",
        "plt.subplot(1, 2, 1)\n",
        "plt.plot(losses_train, label='Training Loss')\n",
        "plt.plot(losses_val, label='Validation Loss')\n",
        "plt.title('Loss per Epoch')\n",
        "plt.xlabel('Epoch')\n",
        "plt.ylabel('Loss')\n",
        "plt.legend()\n",
        "plt.grid(True)\n",
        "\n",
        "plt.subplot(1, 2, 2)\n",
        "plt.plot(accuracies_train, label='Training Accuracy')\n",
        "plt.plot(accuracies_val, label='Validation Accuracy')\n",
        "plt.title('Accuracy per Epoch')\n",
        "plt.xlabel('Epoch')\n",
        "plt.ylabel('Accuracy')\n",
        "plt.legend()\n",
        "plt.grid(True)\n",
        "\n",
        "plt.tight_layout()\n",
        "plt.show()"
      ],
      "metadata": {
        "colab": {
          "base_uri": "https://localhost:8080/",
          "height": 507
        },
        "id": "Ewq7N3-Te0Zi",
        "outputId": "b6181d30-639e-47d2-f2eb-74cab3acae50"
      },
      "execution_count": 38,
      "outputs": [
        {
          "output_type": "display_data",
          "data": {
            "text/plain": [
              "<Figure size 1200x500 with 2 Axes>"
            ],
            "image/png": "[encoded data removed]"
          },
          "metadata": {}
        }
      ]
    },
    {
      "cell_type": "code",
      "source": [
        "# --- 6. Contoh Deteksi untuk Pasien Baru ---\n",
        "print(\"\\n--- 6. Contoh Deteksi untuk Pasien Baru ---\")\n",
        "\n",
        "# Data pasien baru (contoh dummy data)\n",
        "# Tetap gunakan data mentah, normalisasi akan dilakukan setelah ini\n",
        "data_pasien_baru_1 = np.array([[\n",
        "    45,    # Age\n",
        "    1,     # Gender (1 for Male, 0 for Female)\n",
        "    1.2,   # Total_Bilirubin\n",
        "    0.3,   # Direct_Bilirubin\n",
        "    180,   # Alkphos_ALP\n",
        "    45,    # Alamine_Aminotransferase_ALT\n",
        "    50,    # Aspartate_Aminotransferase_AST\n",
        "    7.0,   # Total_Protiens\n",
        "    3.5,   # Albumin\n",
        "    0.5    # Albumin_and_Globulin_Ratio\n",
        "]])\n",
        "\n",
        "data_pasien_baru_2 = np.array([[\n",
        "    60,    # Age\n",
        "    0,     # Gender (1 for Male, 0 for Female)\n",
        "    5.5,   # Total_Bilirubin\n",
        "    2.8,   # Direct_Bilirubin\n",
        "    250,   # Alkphos_ALP\n",
        "    150,   # Alamine_Aminotransferase_ALT\n",
        "    200,   # Aspartate_Aminotransferase_AST\n",
        "    6.0,   # Total_Protiens\n",
        "    2.5,   # Albumin\n",
        "    0.8    # Albumin_and_Globulin_Ratio\n",
        "]])\n",
        "\n",
        "data_pasien_baru_3 = np.array([[\n",
        "    30,    # Age\n",
        "    0,     # Gender (0 = Female)\n",
        "    0.8,   # Total_Bilirubin\n",
        "    0.2,   # Direct_Bilirubin\n",
        "    100,   # Alkaline_Phosphotase\n",
        "    20,    # Alamine_Aminotransferase\n",
        "    25,    # Aspartate_Aminotransferase\n",
        "    7.5,   # Total_Protiens\n",
        "    4.0,   # Albumin\n",
        "    1.1    # Albumin_and_Globulin_Ratio\n",
        "]])\n",
        "\n",
        "data_pasien_baru_4 = np.array([[\n",
        "    55,    # Age\n",
        "    1,     # Gender (1 = Male)\n",
        "    4.5,   # Total_Bilirubin (tinggi)\n",
        "    1.8,   # Direct_Bilirubin (tinggi)\n",
        "    300,   # Alkaline_Phosphotase (tinggi)\n",
        "    120,   # Alamine_Aminotransferase (tinggi)\n",
        "    180,   # Aspartate_Aminotransferase (tinggi)\n",
        "    6.0,   # Total_Protiens (agak rendah)\n",
        "    2.8,   # Albumin (rendah)\n",
        "    0.6    # Albumin_and_Globulin_Ratio (rendah)\n",
        "]])\n",
        "\n",
        "data_pasien_baru_5 = np.array([[\n",
        "    40,    # Age\n",
        "    0,     # Gender (0 = Female)\n",
        "    1.5,   # Total_Bilirubin (agak tinggi)\n",
        "    0.4,   # Direct_Bilirubin\n",
        "    150,   # Alkaline_Phosphotase\n",
        "    60,    # Alamine_Aminotransferase (agak tinggi)\n",
        "    40,    # Aspartate_Aminotransferase\n",
        "    6.8,   # Total_Protiens\n",
        "    3.2,   # Albumin\n",
        "    0.9    # Albumin_and_Globulin_Ratio\n",
        "]])"
      ],
      "metadata": {
        "colab": {
          "base_uri": "https://localhost:8080/"
        },
        "id": "5Wk9njmqhMiJ",
        "outputId": "76f28d18-628c-4ca5-e51e-b6032dce1c38"
      },
      "execution_count": 39,
      "outputs": [
        {
          "output_type": "stream",
          "name": "stdout",
          "text": [
            "\n",
            "--- 6. Contoh Deteksi untuk Pasien Baru ---\n"
          ]
        }
      ]
    },
    {
      "cell_type": "code",
      "source": [
        "# Normalisasi data pasien baru menggunakan mean dan std dari TRAIN set (yang sudah di-resample)\n",
        "data_pasien_baru_1_normalized = (data_pasien_baru_1 - mean) / std\n",
        "data_pasien_baru_2_normalized = (data_pasien_baru_2 - mean) / std\n",
        "data_pasien_baru_3_normalized = (data_pasien_baru_3 - mean) / std\n",
        "data_pasien_baru_4_normalized = (data_pasien_baru_4 - mean) / std\n",
        "data_pasien_baru_5_normalized = (data_pasien_baru_5 - mean) / std"
      ],
      "metadata": {
        "id": "XEPBpHJlhnPZ"
      },
      "execution_count": 40,
      "outputs": []
    },
    {
      "cell_type": "code",
      "source": [
        "print(\"\\n--- Deteksi Pasien 1 ---\")\n",
        "probabilitas_1 = nn.feedforward(data_pasien_baru_1_normalized, training=False)\n",
        "# Coba threshold 0.5 dan juga 0.6 atau 0.7 untuk perbandingan\n",
        "prediksi_binary_1_06 = nn.predict(data_pasien_baru_1_normalized, threshold=0.6)\n",
        "\n",
        "print(f\"Probabilitas model (pasien hati): {probabilitas_1[0][0]:.4f}\")\n",
        "if prediksi_binary_1_06[0][0] == 1:\n",
        "    print(f\"Prediksi (Threshold 0.6): Pasien kemungkinan memiliki penyakit hati.\")\n",
        "else:\n",
        "    print(f\"Prediksi (Threshold 0.6): Pasien kemungkinan tidak memiliki penyakit hati.\")"
      ],
      "metadata": {
        "colab": {
          "base_uri": "https://localhost:8080/"
        },
        "id": "zzzyXXo7hpPA",
        "outputId": "1d12fa05-4f5f-4e6a-8fa4-b19e21e2f21c"
      },
      "execution_count": 41,
      "outputs": [
        {
          "output_type": "stream",
          "name": "stdout",
          "text": [
            "\n",
            "--- Deteksi Pasien 1 ---\n",
            "Probabilitas model (pasien hati): 0.3640\n",
            "Prediksi (Threshold 0.6): Pasien kemungkinan tidak memiliki penyakit hati.\n"
          ]
        }
      ]
    },
    {
      "cell_type": "code",
      "source": [
        "# --- Deteksi Pasien 2 ---\n",
        "print(\"\\n--- Deteksi Pasien 2 ---\")\n",
        "probabilitas_2 = nn.feedforward(data_pasien_baru_2_normalized, training=False)\n",
        "prediksi_binary_2_05 = nn.predict(data_pasien_baru_2_normalized, threshold=0.5)\n",
        "\n",
        "print(f\"Probabilitas model (pasien hati): {probabilitas_2[0][0]:.4f}\")\n",
        "if prediksi_binary_2_05[0][0] == 1:\n",
        "    print(f\"Prediksi (Threshold 0.5): Pasien kemungkinan memiliki penyakit hati.\")\n",
        "else:\n",
        "    print(f\"Prediksi (Threshold 0.5): Pasien kemungkinan tidak memiliki penyakit hati.\")"
      ],
      "metadata": {
        "colab": {
          "base_uri": "https://localhost:8080/"
        },
        "id": "xRMUzHgVhq-4",
        "outputId": "5f32e739-39f3-489d-c509-a2efca29b964"
      },
      "execution_count": 42,
      "outputs": [
        {
          "output_type": "stream",
          "name": "stdout",
          "text": [
            "\n",
            "--- Deteksi Pasien 2 ---\n",
            "Probabilitas model (pasien hati): 0.9135\n",
            "Prediksi (Threshold 0.5): Pasien kemungkinan memiliki penyakit hati.\n"
          ]
        }
      ]
    },
    {
      "cell_type": "code",
      "source": [
        "# --- Deteksi Pasien 3 ---\n",
        "print(\"\\n--- Deteksi Pasien 3 ---\")\n",
        "probabilitas_3 = nn.feedforward(data_pasien_baru_3_normalized, training=False)\n",
        "prediksi_binary_3_05 = nn.predict(data_pasien_baru_3_normalized, threshold=0.5)\n",
        "\n",
        "print(f\"Probabilitas model (pasien hati): {probabilitas_3[0][0]:.4f}\")\n",
        "if prediksi_binary_3_05[0][0] == 1:\n",
        "    print(f\"Prediksi (Threshold 0.5): Pasien kemungkinan memiliki penyakit hati.\")\n",
        "else:\n",
        "    print(f\"Prediksi (Threshold 0.5): Pasien kemungkinan tidak memiliki penyakit hati.\")"
      ],
      "metadata": {
        "colab": {
          "base_uri": "https://localhost:8080/"
        },
        "id": "M7DXzop9hvZM",
        "outputId": "6a6e598b-d2c0-4303-da4c-7efe4a959c7d"
      },
      "execution_count": 43,
      "outputs": [
        {
          "output_type": "stream",
          "name": "stdout",
          "text": [
            "\n",
            "--- Deteksi Pasien 3 ---\n",
            "Probabilitas model (pasien hati): 0.3351\n",
            "Prediksi (Threshold 0.5): Pasien kemungkinan tidak memiliki penyakit hati.\n"
          ]
        }
      ]
    },
    {
      "cell_type": "code",
      "source": [
        "# --- Deteksi Pasien 4 ---\n",
        "print(\"\\n--- Deteksi Pasien 4 ---\")\n",
        "probabilitas_4 = nn.feedforward(data_pasien_baru_4_normalized, training=False)\n",
        "prediksi_binary_4_06 = nn.predict(data_pasien_baru_4_normalized, threshold=0.6)\n",
        "\n",
        "print(f\"Probabilitas model (pasien hati): {probabilitas_4[0][0]:.4f}\")\n",
        "if prediksi_binary_4_06[0][0] == 1:\n",
        "    print(f\"Prediksi (Threshold 0.6): Pasien kemungkinan memiliki penyakit hati.\")\n",
        "else:\n",
        "    print(f\"Prediksi (Threshold 0.6): Pasien kemungkinan tidak memiliki penyakit hati.\")"
      ],
      "metadata": {
        "colab": {
          "base_uri": "https://localhost:8080/"
        },
        "id": "GDEMj8Qah12v",
        "outputId": "5a971f6d-f893-4a5a-803b-67d44e80bc13"
      },
      "execution_count": 44,
      "outputs": [
        {
          "output_type": "stream",
          "name": "stdout",
          "text": [
            "\n",
            "--- Deteksi Pasien 4 ---\n",
            "Probabilitas model (pasien hati): 0.6889\n",
            "Prediksi (Threshold 0.6): Pasien kemungkinan memiliki penyakit hati.\n"
          ]
        }
      ]
    },
    {
      "cell_type": "code",
      "source": [
        "# --- Deteksi Pasien 5 ---\n",
        "print(\"\\n--- Deteksi Pasien 5 ---\")\n",
        "probabilitas_5 = nn.feedforward(data_pasien_baru_5_normalized, training=False)\n",
        "prediksi_binary_5_06 = nn.predict(data_pasien_baru_5_normalized, threshold=0.6)\n",
        "\n",
        "print(f\"Probabilitas model (pasien hati): {probabilitas_5[0][0]:.4f}\")\n",
        "if prediksi_binary_5_06[0][0] == 1:\n",
        "    print(f\"Prediksi (Threshold 0.6): Pasien kemungkinan memiliki penyakit hati.\")\n",
        "else:\n",
        "    print(f\"Prediksi (Threshold 0.6): Pasien kemungkinan tidak memiliki penyakit hati.\")"
      ],
      "metadata": {
        "colab": {
          "base_uri": "https://localhost:8080/"
        },
        "id": "7lqraoKyh6Br",
        "outputId": "96cbdb7c-9eea-49cd-ec60-7aac2b4f6f6a"
      },
      "execution_count": 45,
      "outputs": [
        {
          "output_type": "stream",
          "name": "stdout",
          "text": [
            "\n",
            "--- Deteksi Pasien 5 ---\n",
            "Probabilitas model (pasien hati): 0.4577\n",
            "Prediksi (Threshold 0.6): Pasien kemungkinan tidak memiliki penyakit hati.\n"
          ]
        }
      ]
    }
  ]
}
